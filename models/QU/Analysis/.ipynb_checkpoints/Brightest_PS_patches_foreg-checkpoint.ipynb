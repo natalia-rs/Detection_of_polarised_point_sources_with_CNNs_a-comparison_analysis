{
 "cells": [
  {
   "cell_type": "code",
   "execution_count": 1,
   "id": "6bf96601-7543-4e56-a0f2-f1168bff4c6e",
   "metadata": {},
   "outputs": [],
   "source": [
    "import numpy as np\n",
    "import pandas as pd\n",
    "import healpy as hp\n",
    "import matplotlib.pyplot as plt\n",
    "from skimage.feature import peak_local_max\n",
    "import matplotlib.colors as colors\n",
    "import astropy.coordinates as coord\n",
    "from matplotlib.colors import LogNorm"
   ]
  },
  {
   "cell_type": "markdown",
   "id": "ae1f132a-4315-4e3f-9b46-e794c0b63de6",
   "metadata": {},
   "source": [
    "#### **Select the 20 brightest objects in the Observation map**"
   ]
  },
  {
   "cell_type": "code",
   "execution_count": 1,
   "id": "e64014cf-67c5-442a-a1c3-9a3ae2f0a82d",
   "metadata": {},
   "outputs": [],
   "source": [
    "#From TFM/models/B/Analysis/Brightest_PS_patches_foreg.ipynb"
   ]
  },
  {
   "cell_type": "code",
   "execution_count": 2,
   "id": "0537b008-83ab-41ff-97c7-b3baca837b29",
   "metadata": {},
   "outputs": [],
   "source": [
    "%store -r brightest20_obs"
   ]
  },
  {
   "cell_type": "markdown",
   "id": "3dfb8f28-0c8e-4156-baa5-17d0113ed9a5",
   "metadata": {},
   "source": [
    "#### **Point source only Q map**"
   ]
  },
  {
   "cell_type": "code",
   "execution_count": 2,
   "id": "10b491c7-9623-4a06-86a4-50aba897c464",
   "metadata": {},
   "outputs": [],
   "source": [
    "#From TFM/Observation data/Simulation/Simulation_27GHz_obs.ipynb"
   ]
  },
  {
   "cell_type": "code",
   "execution_count": null,
   "id": "0cea1ed3-c632-4d85-a965-b58df950a7a4",
   "metadata": {},
   "outputs": [],
   "source": [
    "# We can only represent one of the QU maps: either Q or U. Here we have chosen to represent Q, but for no special reason"
   ]
  },
  {
   "cell_type": "code",
   "execution_count": 3,
   "id": "c0b0ac56-398e-4909-a044-2c5ab5ca710f",
   "metadata": {},
   "outputs": [],
   "source": [
    "%store -r ps_map_Q_obs"
   ]
  },
  {
   "cell_type": "code",
   "execution_count": 4,
   "id": "a11312a1-6490-4f50-8b52-2ad0f4221f67",
   "metadata": {},
   "outputs": [],
   "source": [
    "%store -r lon\n",
    "%store -r lat\n",
    "%store -r xsize\n",
    "%store -r reso"
   ]
  },
  {
   "cell_type": "code",
   "execution_count": null,
   "id": "7899fc04-a049-4110-8191-1c8b4f5fc2f7",
   "metadata": {},
   "outputs": [],
   "source": [
    "ps_map_Q_obs_patches = [hp.gnomview(ps_map_Q_obs, rot=[lon[i], lat[i]], xsize = xsize, reso = reso, return_projected_map = True, no_plot = True) for i in range(len(lon))]"
   ]
  },
  {
   "cell_type": "markdown",
   "id": "ff48a867-54b7-4029-a6f6-4da028af8793",
   "metadata": {},
   "source": [
    "#### **Patch comparison**"
   ]
  },
  {
   "cell_type": "code",
   "execution_count": 4,
   "id": "e05d3769-6116-4be5-a183-412c9df960ce",
   "metadata": {},
   "outputs": [],
   "source": [
    "# Store the prediction\n",
    "%store -r prediction_QU_64pix_9epoch_10batch"
   ]
  },
  {
   "cell_type": "code",
   "execution_count": 5,
   "id": "f7fd16b8-add1-4cb3-a3ca-74d1bc37e611",
   "metadata": {},
   "outputs": [],
   "source": [
    "# Store the observation\n",
    "%store -r map_cut_data_QU_obs"
   ]
  },
  {
   "cell_type": "code",
   "execution_count": 6,
   "id": "818b280a-1742-4e34-aa8e-47fe3ba71e96",
   "metadata": {},
   "outputs": [],
   "source": [
    "patch_numbers = [item[0] for item in brightest20_obs]\n",
    "peak_patch_x = [item[2] for item in brightest20_obs]\n",
    "peak_patch_y = [item[1] for item in brightest20_obs]"
   ]
  },
  {
   "cell_type": "code",
   "execution_count": 7,
   "id": "8cee6d92-5b57-4230-8fdc-b2c98610ce47",
   "metadata": {},
   "outputs": [],
   "source": [
    "%store -r prediction_QU_64pix_9epoch_10batch_foregrounds"
   ]
  },
  {
   "cell_type": "code",
   "execution_count": 8,
   "id": "0e979891-93b0-4ca2-90bf-b636d470f012",
   "metadata": {},
   "outputs": [],
   "source": [
    "%store -r map_cut_data_QU_obs_foregrounds"
   ]
  },
  {
   "cell_type": "code",
   "execution_count": null,
   "id": "418635f2-15af-4470-aabf-35638f54b5dc",
   "metadata": {},
   "outputs": [],
   "source": [
    "fig, axes = plt.subplots(20, 5, figsize=(18, 60), dpi=200)\n",
    "\n",
    "for i, (patch_number, peak_x, peak_y) in enumerate(zip(patch_numbers[:20], peak_patch_x[:20], peak_patch_y[:20])):\n",
    "    \n",
    "    def test(observation, prediction, foregrounds, n=patch_number, peak_distance_tol=5): \n",
    "        observation = np.squeeze(observation[n])\n",
    "        observation = observation[:,:,0] # we are represeting Q map\n",
    "        prediction = np.squeeze(prediction[n])\n",
    "        foregrounds = np.squeeze(foregrounds[n])\n",
    "        prediction_peaks = peak_local_max(prediction[:, :], threshold_abs = 0.3, min_distance=peak_distance_tol, exclude_border=False)\n",
    "        foregrounds_peaks = peak_local_max(foregrounds[:, :], threshold_abs = 0.3, min_distance=peak_distance_tol, exclude_border=False)\n",
    "        return prediction_peaks, observation, prediction, foregrounds, foregrounds_peaks  \n",
    "    \n",
    "        \n",
    "    # S_new_obs plot\n",
    "    ax1 = axes[i, 0]    \n",
    "    sc1 = ax1.imshow(ps_map_Q_obs_patches[patch_number])\n",
    "    cbar1 = fig.colorbar(sc1, ax=ax1)\n",
    "    ax1.set_title(f\"Smoothed Q map of the PS ({i+1})\")\n",
    "\n",
    "        \n",
    "    # Observation\n",
    "    ax2 = axes[i, 1]  \n",
    "    image_data2 = test(map_cut_data_QU_obs, prediction_QU_64pix_9epoch_10batch, prediction_QU_64pix_9epoch_10batch_foregrounds)[1]\n",
    "    sc2 = ax2.imshow(image_data2)\n",
    "    ax2.scatter(x=peak_x, y=peak_y, color='magenta', s=20)\n",
    "    cbar2 = fig.colorbar(sc2, ax=ax2)\n",
    "    ax2.set_title(f\"Observation Q map ({i+1})\")\n",
    "    \n",
    "    # Observation with foregrounds\n",
    "    ax2 = axes[i, 2]  \n",
    "    image_data2 = map_cut_data_QU_obs_foregrounds[patch_number][:,:,0]\n",
    "    sc2 = ax2.imshow(image_data2)\n",
    "    ax2.scatter(x=peak_x, y=peak_y, color='magenta', s=20)\n",
    "    cbar2 = fig.colorbar(sc2, ax=ax2)\n",
    "    ax2.set_title(f\"Observation Q map with foregrounds ({i+1})\")\n",
    "\n",
    "    \n",
    "    # Prediction\n",
    "    ax3 = axes[i, 3]  \n",
    "    image_data3 = test(map_cut_data_QU_obs, prediction_QU_64pix_9epoch_10batch, prediction_QU_64pix_9epoch_10batch_foregrounds)[2]\n",
    "    sc3 = ax3.imshow(image_data3, norm=colors.LogNorm())\n",
    "    ax3.scatter(x=test(map_cut_data_QU_obs, prediction_QU_64pix_9epoch_10batch, prediction_QU_64pix_9epoch_10batch_foregrounds)[0][:, 1],\n",
    "                y=test(map_cut_data_QU_obs, prediction_QU_64pix_9epoch_10batch, prediction_QU_64pix_9epoch_10batch_foregrounds)[0][:, 0], \n",
    "                c='red', marker='x')\n",
    "    cbar3 = fig.colorbar(sc3, ax=ax3)\n",
    "    ax3.set_title(f\"Prediction ({i+1})\")\n",
    "    \n",
    "    # Prediction with foregrounds\n",
    "    ax4 = axes[i, 4]  \n",
    "    image_data4 = test(map_cut_data_QU_obs, prediction_QU_64pix_9epoch_10batch, prediction_QU_64pix_9epoch_10batch_foregrounds)[3]\n",
    "    sc4 = ax4.imshow(image_data4, norm=colors.LogNorm())\n",
    "    ax4.scatter(x=test(map_cut_data_QU_obs, prediction_QU_64pix_9epoch_10batch, prediction_QU_64pix_9epoch_10batch_foregrounds)[4][:, 1],\n",
    "                y=test(map_cut_data_QU_obs, prediction_QU_64pix_9epoch_10batch, prediction_QU_64pix_9epoch_10batch_foregrounds)[4][:, 0], \n",
    "                c='red', marker='x')\n",
    "    cbar4 = fig.colorbar(sc4, ax=ax4)\n",
    "    ax4.set_title(f\"Prediction with foregrounds ({i+1})\")\n",
    "\n",
    "\n",
    "\n",
    "plt.tight_layout()\n",
    "plt.savefig('Foreground_patches.pdf')\n",
    "plt.show()"
   ]
  },
  {
   "cell_type": "code",
   "execution_count": null,
   "id": "216fa191-3c80-419c-8a96-97ccb3e18340",
   "metadata": {},
   "outputs": [],
   "source": []
  }
 ],
 "metadata": {
  "kernelspec": {
   "display_name": "Python 3 (ipykernel)",
   "language": "python",
   "name": "python3"
  },
  "language_info": {
   "codemirror_mode": {
    "name": "ipython",
    "version": 3
   },
   "file_extension": ".py",
   "mimetype": "text/x-python",
   "name": "python",
   "nbconvert_exporter": "python",
   "pygments_lexer": "ipython3",
   "version": "3.10.6"
  }
 },
 "nbformat": 4,
 "nbformat_minor": 5
}
