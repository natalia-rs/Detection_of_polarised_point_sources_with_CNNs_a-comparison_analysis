{
 "cells": [
  {
   "cell_type": "code",
   "execution_count": 1,
   "id": "2d152efc-7a62-474e-b5a8-e8fc74c06010",
   "metadata": {},
   "outputs": [],
   "source": [
    "import healpy as hp\n",
    "import pandas as pd\n",
    "import numpy as np\n",
    "import math\n",
    "from skimage.feature import peak_local_max"
   ]
  },
  {
   "cell_type": "code",
   "execution_count": 2,
   "id": "00344641-3f5d-461c-a686-699d8783ddbc",
   "metadata": {},
   "outputs": [
    {
     "data": {
      "image/png": "[encoded data removed]",
      "text/plain": [
       "<Figure size 850x540 with 2 Axes>"
      ]
     },
     "metadata": {},
     "output_type": "display_data"
    }
   ],
   "source": [
    "nside = 1024\n",
    "map_test = np.zeros(hp.nside2npix(nside))\n",
    "\n",
    "# First PS\n",
    "lon_PS_1 = 0\n",
    "lat_PS_1 = 45\n",
    "pix_1 = hp.ang2pix(nside, lon_PS_1, lat_PS_1, lonlat = True)\n",
    "map_test[pix_1] = 1\n",
    "\n",
    "# Second PS\n",
    "lon_PS_2 = 30\n",
    "lat_PS_2 = -45\n",
    "pix_2 = hp.ang2pix(nside, lon_PS_2, lat_PS_2, lonlat = True)\n",
    "map_test[pix_2] = 1\n",
    "\n",
    "hp.mollview(map_test)\n"
   ]
  },
  {
   "cell_type": "code",
   "execution_count": 25,
   "id": "e8d498b5-45f2-45ab-9f35-04b6ce165c45",
   "metadata": {},
   "outputs": [],
   "source": [
    "%store -r lon\n",
    "%store -r lat\n",
    "%store -r xsize"
   ]
  },
  {
   "cell_type": "code",
   "execution_count": 4,
   "id": "6a5a5a5a-e6fd-460a-b8d8-8c3696006619",
   "metadata": {},
   "outputs": [],
   "source": [
    "reso_test = hp.nside2resol(nside, arcmin=True)"
   ]
  },
  {
   "cell_type": "code",
   "execution_count": 5,
   "id": "de57b6c7-a113-4fcc-a6d0-0600aa05fd2f",
   "metadata": {},
   "outputs": [],
   "source": [
    "patches_test_map = [hp.gnomview(map_test, rot=[lon[i], lat[i]], xsize = xsize, reso = reso_test, return_projected_map = True, no_plot = True) for i in range(len(lon))]"
   ]
  },
  {
   "cell_type": "code",
   "execution_count": 6,
   "id": "288a20c9-27fd-4199-8ba3-7ba480bbc07b",
   "metadata": {},
   "outputs": [],
   "source": [
    "patches_test_map = np.array(patches_test_map)"
   ]
  },
  {
   "cell_type": "code",
   "execution_count": 69,
   "id": "02fd53fb-9f3f-4af3-aa69-1b71ee53c888",
   "metadata": {},
   "outputs": [],
   "source": [
    "def get_peaks_lonlat(patches, lon = lon, lat = lat, xsize = xsize, reso = reso_test , peak_distance_tol=2, threshold_abs=0.99):\n",
    "    peak_coords = []\n",
    "\n",
    "    for patch, patch_lon, patch_lat in zip(patches, lon, lat):\n",
    "        peak_indices = peak_local_max(patch, min_distance=peak_distance_tol, threshold_abs=threshold_abs, exclude_border=False)\n",
    "    \n",
    "        proj = hp.projector.GnomonicProj(ysize=xsize, xsize=xsize, rot=(patch_lon, patch_lat, 0), reso=reso)\n",
    "\n",
    "        x, y = proj.ij2xy(peak_indices[:, 0], peak_indices[:, 1])\n",
    "        lon_coords, lat_coords = proj.xy2ang(x=x, y=y, lonlat=True)\n",
    "\n",
    "        if np.isscalar(lon_coords):  \n",
    "            lon_coords = [lon_coords] \n",
    "\n",
    "        if np.isscalar(lat_coords):  \n",
    "            lat_coords = [lat_coords]  \n",
    "\n",
    "        for i in range(len(lon_coords)):\n",
    "            peak_coords.append((lon_coords[i], lat_coords[i]))\n",
    "\n",
    "    return peak_coords\n"
   ]
  },
  {
   "cell_type": "code",
   "execution_count": 70,
   "id": "f8753798-b91d-4d8b-b9b2-1adb7549fcfc",
   "metadata": {
    "tags": []
   },
   "outputs": [],
   "source": [
    "peaks_lonlat = get_peaks_lonlat(patches_test_map)"
   ]
  },
  {
   "cell_type": "code",
   "execution_count": 71,
   "id": "b061deaf-b6e9-4984-9134-7412af0e9bf4",
   "metadata": {},
   "outputs": [
    {
     "data": {
      "text/plain": [
       "[(0.0668282224504722, 44.977309656049265),\n",
       " (0.01654563108248235, 45.032740363571016),\n",
       " (29.95350266087176, -45.04252989332258)]"
      ]
     },
     "execution_count": 71,
     "metadata": {},
     "output_type": "execute_result"
    }
   ],
   "source": [
    "peaks_lonlat"
   ]
  },
  {
   "cell_type": "code",
   "execution_count": 12,
   "id": "570801f5-8514-4312-9d2d-26b8188fbddf",
   "metadata": {},
   "outputs": [],
   "source": [
    "import astropy.coordinates as coord "
   ]
  },
  {
   "cell_type": "code",
   "execution_count": 65,
   "id": "af756d28-02b4-48b7-a5f6-0760c81d2a31",
   "metadata": {},
   "outputs": [
    {
     "data": {
      "text/plain": [
       "0.05374932983764464"
      ]
     },
     "execution_count": 65,
     "metadata": {},
     "output_type": "execute_result"
    }
   ],
   "source": [
    "np.degrees(coord.angular_separation(np.radians(29.95350266087176), np.radians(-45.04252989332258), np.radians(30), np.radians(-45)))"
   ]
  },
  {
   "cell_type": "code",
   "execution_count": 68,
   "id": "f93f9cff-c4e4-43fb-81c7-3ee02da4868d",
   "metadata": {},
   "outputs": [
    {
     "data": {
      "text/plain": [
       "0.9387199958542822"
      ]
     },
     "execution_count": 68,
     "metadata": {},
     "output_type": "execute_result"
    }
   ],
   "source": [
    "0.05374932983764464*60/reso_test"
   ]
  },
  {
   "cell_type": "code",
   "execution_count": null,
   "id": "fe1c940c-464c-4b00-a61c-5d42c490fd23",
   "metadata": {},
   "outputs": [],
   "source": [
    "# 0.94 pix de error"
   ]
  }
 ],
 "metadata": {
  "kernelspec": {
   "display_name": "Python 3 (ipykernel)",
   "language": "python",
   "name": "python3"
  },
  "language_info": {
   "codemirror_mode": {
    "name": "ipython",
    "version": 3
   },
   "file_extension": ".py",
   "mimetype": "text/x-python",
   "name": "python",
   "nbconvert_exporter": "python",
   "pygments_lexer": "ipython3",
   "version": "3.10.6"
  }
 },
 "nbformat": 4,
 "nbformat_minor": 5
}
