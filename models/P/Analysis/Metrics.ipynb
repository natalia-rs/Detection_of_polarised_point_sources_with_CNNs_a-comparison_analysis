{
 "cells": [
  {
   "cell_type": "code",
   "execution_count": 1,
   "id": "ea90df1e-f38d-428b-acf1-0b26439b9ed8",
   "metadata": {},
   "outputs": [],
   "source": [
    "import healpy as hp\n",
    "import pandas as pd\n",
    "import numpy as np\n",
    "import math\n",
    "from skimage.feature import peak_local_max\n",
    "from scipy.spatial.distance import cdist\n",
    "import matplotlib.pyplot as plt\n",
    "import astropy.coordinates as coord\n",
    "import matplotlib.pyplot as plt"
   ]
  },
  {
   "cell_type": "code",
   "execution_count": 2,
   "id": "4b5eb714-0c25-4c8f-bd1b-02e5ddf6ff07",
   "metadata": {},
   "outputs": [],
   "source": [
    "%store -r table_PS_obs"
   ]
  },
  {
   "cell_type": "code",
   "execution_count": 5,
   "id": "23e692f1-6b5e-4d5c-976d-d6ac113c5b9d",
   "metadata": {},
   "outputs": [],
   "source": [
    "%store -r prediction_P_64pix_9epoch_10batch"
   ]
  },
  {
   "cell_type": "code",
   "execution_count": 6,
   "id": "19b088c0-23d8-4e4f-9630-34154277277e",
   "metadata": {},
   "outputs": [],
   "source": [
    "%store -r lon\n",
    "%store -r lat\n",
    "%store -r xsize\n",
    "%store -r reso"
   ]
  },
  {
   "cell_type": "code",
   "execution_count": 7,
   "id": "4d603526-ad7e-4844-9ce2-a3db241afbdc",
   "metadata": {},
   "outputs": [],
   "source": [
    "# peak_distance_tol: Tolerance radius for considering two peaks as the same (in pixels)\n",
    "def get_peaks_lonlat(prediction_patches, lon, lat, xsize, reso, threshold_abs, peak_distance_tol=5):\n",
    "    peak_coords = []\n",
    "\n",
    "    for patch, patch_lon, patch_lat in zip(prediction_patches, lon, lat):\n",
    "        patch = np.squeeze(patch)  # Remove the single-dimensional axis\n",
    "        peak_indices = peak_local_max(patch, min_distance=peak_distance_tol, threshold_abs=threshold_abs, exclude_border=False)\n",
    "        peak_probs = patch[peak_indices[:, 0], peak_indices[:, 1]]\n",
    "\n",
    "        proj = hp.projector.GnomonicProj(ysize=xsize, xsize=xsize, rot=(patch_lon, patch_lat, 0), reso=reso)\n",
    "\n",
    "        x, y = proj.ij2xy(peak_indices[:, 0], peak_indices[:, 1])\n",
    "        lon_coords, lat_coords = proj.xy2ang(x=x, y=y, lonlat=True)\n",
    "\n",
    "        if np.isscalar(lon_coords):  \n",
    "            lon_coords = [lon_coords] \n",
    "\n",
    "        if np.isscalar(lat_coords):  \n",
    "            lat_coords = [lat_coords]  \n",
    "\n",
    "        for i in range(len(lon_coords)):\n",
    "            peak_coords.append((lon_coords[i], lat_coords[i], peak_probs[i]))\n",
    "\n",
    "    return peak_coords\n"
   ]
  },
  {
   "cell_type": "code",
   "execution_count": 12,
   "id": "0afe38d0-0562-44cc-8ec1-dccc68685016",
   "metadata": {},
   "outputs": [],
   "source": [
    "table_PS_pred_list = []  # List to store the tables\n",
    "\n",
    "for k in np.arange(0.1, 1, 0.1):\n",
    "    table_PS_pred = pd.DataFrame(columns=['lon(°)', 'lat(°)', 'p(0,1)'])\n",
    "    peaks_pred = get_peaks_lonlat(prediction_P_64pix_9epoch_10batch, lon, lat, xsize, reso, threshold_abs=k)\n",
    "\n",
    "    for patch in peaks_pred:\n",
    "        lon_patch, lat_patch, probability = patch\n",
    "\n",
    "        patch_df = pd.DataFrame({'lon(°)': [lon_patch], 'lat(°)': [lat_patch], 'p(0,1)': [probability]})\n",
    "\n",
    "        table_PS_pred = pd.concat([table_PS_pred, patch_df], ignore_index=True)\n",
    "\n",
    "    table_PS_pred_list.append(table_PS_pred)  "
   ]
  },
  {
   "cell_type": "code",
   "execution_count": 13,
   "id": "9c7ae9d7-f3a8-4bd8-b5fa-ba3eee8ade57",
   "metadata": {},
   "outputs": [],
   "source": [
    "table_detections_list = []\n",
    "table_spurious_list = []\n",
    "\n",
    "for table_PS_pred in table_PS_pred_list:\n",
    "    pred_lons = table_PS_pred['lon(°)']\n",
    "    pred_lats = table_PS_pred['lat(°)']\n",
    "    pred_probs = table_PS_pred['p(0,1)']\n",
    "\n",
    "    obs_lons = table_PS_obs['lon(°)']\n",
    "    obs_lats = table_PS_obs['lat(°)']\n",
    "\n",
    "    pred_lons_rad = np.radians(pred_lons.values)\n",
    "    pred_lats_rad = np.radians(pred_lats.values)\n",
    "\n",
    "    obs_lons_rad = np.radians(obs_lons.values)\n",
    "    obs_lats_rad = np.radians(obs_lats.values)\n",
    "\n",
    "    table_detections = pd.DataFrame(columns=['lon(°)', 'lat(°)', 'pred_lon', 'pred_lat', 'p(0,1)', 'S(Jy)'])\n",
    "    table_spurious = pd.DataFrame(columns=['lon(°)', 'lat(°)', 'p(0,1)'])\n",
    "\n",
    "    for pred_idx, (pred_lon_rad, pred_lat_rad, pred_lon, pred_lat, pred_prob) in enumerate(\n",
    "            zip(pred_lons_rad, pred_lats_rad, pred_lons, pred_lats, pred_probs)):\n",
    "        angular_separations = np.degrees(\n",
    "            coord.angular_separation(pred_lon_rad, pred_lat_rad, obs_lons_rad, obs_lats_rad))\n",
    "\n",
    "        closest_observation = None\n",
    "        closest_distance = np.inf\n",
    "\n",
    "        closest_obs_idx = np.argmin(angular_separations)\n",
    "        closest_distance = angular_separations[closest_obs_idx]\n",
    "\n",
    "        if closest_distance <= 0.2:  # deg #3.53 pix approx\n",
    "            obs_idx = table_PS_obs.index[closest_obs_idx]\n",
    "            obs_lon = table_PS_obs.loc[obs_idx, 'lon(°)']\n",
    "            obs_lat = table_PS_obs.loc[obs_idx, 'lat(°)']\n",
    "            obs_sjy = table_PS_obs.loc[obs_idx, 'S(Jy)']\n",
    "\n",
    "            if obs_sjy in table_detections['S(Jy)'].values:\n",
    "                # Get the indices of the existing detections with the same flux value\n",
    "                matching_indices = table_detections.index[table_detections['S(Jy)'] == obs_sjy]\n",
    "\n",
    "                # Calculate distances between the current observation and the matching predictions\n",
    "                distances = np.degrees(coord.angular_separation(obs_lons_rad[obs_idx], obs_lats_rad[obs_idx],\n",
    "                                                               pred_lons_rad[matching_indices],\n",
    "                                                               pred_lats_rad[matching_indices]))\n",
    "\n",
    "                # Find the index of the closest matching prediction\n",
    "                closest_pred_idx = matching_indices[np.argmin(distances)]\n",
    "\n",
    "                # Remove the existing detection that is farther away\n",
    "                table_detections = table_detections.drop(index=closest_pred_idx)\n",
    "\n",
    "            table_detections = pd.concat([\n",
    "                table_detections,\n",
    "                pd.DataFrame([[obs_lon, obs_lat, pred_lon, pred_lat, pred_prob, obs_sjy]],\n",
    "                             columns=['lon(°)', 'lat(°)', 'pred_lon', 'pred_lat', 'p(0,1)', 'S(Jy)'])\n",
    "            ], ignore_index=True)\n",
    "        else:\n",
    "            table_spurious = pd.concat([\n",
    "                table_spurious,\n",
    "                pd.DataFrame([[pred_lon, pred_lat, pred_prob]], columns=['lon(°)', 'lat(°)', 'p(0,1)'])\n",
    "            ], ignore_index=True)\n",
    "\n",
    "    table_detections_list.append(table_detections)\n",
    "    table_spurious_list.append(table_spurious)\n"
   ]
  },
  {
   "cell_type": "code",
   "execution_count": 14,
   "id": "2adbac8f-7e28-441c-a062-78c1633b6d51",
   "metadata": {},
   "outputs": [],
   "source": [
    "table_detections_P = table_detections_list[2]\n",
    "table_spurious_P = table_spurious_list[2]"
   ]
  },
  {
   "cell_type": "code",
   "execution_count": 15,
   "id": "dedf1212-af0f-4e6c-8263-dddc3e4eaaf1",
   "metadata": {},
   "outputs": [
    {
     "name": "stdout",
     "output_type": "stream",
     "text": [
      "Stored 'table_detections_P' (DataFrame)\n",
      "Stored 'table_spurious_P' (DataFrame)\n"
     ]
    }
   ],
   "source": [
    "%store table_detections_P\n",
    "%store table_spurious_P"
   ]
  },
  {
   "cell_type": "code",
   "execution_count": 16,
   "id": "71133a16-71cd-405f-9f0e-b017674114e3",
   "metadata": {},
   "outputs": [],
   "source": [
    "table_PS_obs_sorted = table_PS_obs.sort_values(by='S(Jy)', ascending=True)\n",
    "table_PS_obs_sorted_flux = table_PS_obs_sorted['S(Jy)']\n",
    "table_PS_obs_sorted_flux = table_PS_obs_sorted_flux.reset_index(drop=True)\n"
   ]
  },
  {
   "cell_type": "code",
   "execution_count": 18,
   "id": "f2d6c3bd-21f9-4f5b-be80-edebc5c9fc4d",
   "metadata": {},
   "outputs": [
    {
     "data": {
      "image/png": "[encoded data removed]",
      "text/plain": [
       "<Figure size 640x480 with 1 Axes>"
      ]
     },
     "metadata": {},
     "output_type": "display_data"
    }
   ],
   "source": [
    "ratio_list_list = []\n",
    "\n",
    "for table_detections in table_detections_list:\n",
    "    ratio_list = []\n",
    "    \n",
    "    for i in np.arange(0, len(table_PS_obs_sorted_flux) - 1):\n",
    "        num = sum(table_detections['S(Jy)'] > table_PS_obs_sorted_flux[i])\n",
    "        den = sum(table_PS_obs['S(Jy)'] > table_PS_obs_sorted_flux[i])\n",
    "        if den != 0:\n",
    "            ratio = num / den\n",
    "        else:\n",
    "            ratio = 0\n",
    "        ratio_list.append(ratio)\n",
    "\n",
    "    ratio_list_list.append(ratio_list)\n",
    "\n",
    "fig, ax = plt.subplots()\n",
    "for i, ratio_list in enumerate(ratio_list_list):\n",
    "    threshold = (i + 1) / 10.0  \n",
    "    ax.scatter(np.arange(0, len(table_PS_obs_sorted_flux) - 1), ratio_list, marker='.', label=f'Threshold {threshold:.1f}')\n",
    "    \n",
    "ax.set_title('Completeness Curve for P Without Foregrounds')\n",
    "ax.set_xlabel('S(Jy)')\n",
    "ax.set_ylabel('Completeness')\n",
    "ax.grid(True)\n",
    "\n",
    "num_ticks = 6\n",
    "\n",
    "step_size = max(1, len(table_PS_obs_sorted_flux) // num_ticks)\n",
    "\n",
    "ax.locator_params(axis='x', nbins=num_ticks)\n",
    "ax.set_xticks(table_PS_obs_sorted_flux.index[::step_size])\n",
    "ax.set_xticklabels([f'{val:.2f}' for val in table_PS_obs_sorted_flux.values[::step_size]])\n",
    "\n",
    "ax.legend()\n",
    "plt.ylim(0,1)\n",
    "plt.savefig('Completenessnoforeg.jpg', dpi = 200)\n",
    "plt.show()\n"
   ]
  },
  {
   "cell_type": "code",
   "execution_count": 19,
   "id": "e8018090-5ff3-40f4-995c-bd9bf697709c",
   "metadata": {},
   "outputs": [
    {
     "name": "stdout",
     "output_type": "stream",
     "text": [
      "Stored 'completeness_P_03' (list)\n"
     ]
    }
   ],
   "source": [
    "completeness_P_03 = ratio_list_list[2]\n",
    "%store completeness_P_03"
   ]
  },
  {
   "cell_type": "code",
   "execution_count": 20,
   "id": "a660bb06-566b-4f15-8468-3ba76bacdadc",
   "metadata": {},
   "outputs": [
    {
     "ename": "ZeroDivisionError",
     "evalue": "division by zero",
     "output_type": "error",
     "traceback": [
      "\u001b[0;31m---------------------------------------------------------------------------\u001b[0m",
      "\u001b[0;31mZeroDivisionError\u001b[0m                         Traceback (most recent call last)",
      "Cell \u001b[0;32mIn [20], line 4\u001b[0m\n\u001b[1;32m      1\u001b[0m R_list \u001b[38;5;241m=\u001b[39m []\n\u001b[1;32m      3\u001b[0m \u001b[38;5;28;01mfor\u001b[39;00m table_spurious, table_detections \u001b[38;5;129;01min\u001b[39;00m \u001b[38;5;28mzip\u001b[39m(table_spurious_list, table_detections_list):\n\u001b[0;32m----> 4\u001b[0m     R \u001b[38;5;241m=\u001b[39m \u001b[38;5;241m1\u001b[39m \u001b[38;5;241m-\u001b[39m \u001b[38;5;28;43mlen\u001b[39;49m\u001b[43m(\u001b[49m\u001b[43mtable_spurious\u001b[49m\u001b[43m)\u001b[49m\u001b[43m \u001b[49m\u001b[38;5;241;43m/\u001b[39;49m\u001b[43m \u001b[49m\u001b[43m(\u001b[49m\u001b[38;5;28;43mlen\u001b[39;49m\u001b[43m(\u001b[49m\u001b[43mtable_spurious\u001b[49m\u001b[43m)\u001b[49m\u001b[43m \u001b[49m\u001b[38;5;241;43m+\u001b[39;49m\u001b[43m \u001b[49m\u001b[38;5;28;43mlen\u001b[39;49m\u001b[43m(\u001b[49m\u001b[43mtable_detections\u001b[49m\u001b[43m)\u001b[49m\u001b[43m)\u001b[49m\n\u001b[1;32m      5\u001b[0m     R_list\u001b[38;5;241m.\u001b[39mappend(R)\n",
      "\u001b[0;31mZeroDivisionError\u001b[0m: division by zero"
     ]
    }
   ],
   "source": [
    "R_list = []\n",
    "\n",
    "for table_spurious, table_detections in zip(table_spurious_list, table_detections_list):\n",
    "    R = 1 - len(table_spurious) / (len(table_spurious) + len(table_detections))\n",
    "    R_list.append(R)\n"
   ]
  },
  {
   "cell_type": "code",
   "execution_count": null,
   "id": "78978c49-826c-42df-a0fa-41745e32843d",
   "metadata": {},
   "outputs": [],
   "source": [
    "R_list_P = R_list\n",
    "%store R_list_P"
   ]
  },
  {
   "cell_type": "code",
   "execution_count": null,
   "id": "f847a7f0-8489-4e74-9014-1e38b86f7776",
   "metadata": {},
   "outputs": [],
   "source": [
    "plt.plot(np.arange(0.1,1,0.1), R_list, marker='o')\n",
    "plt.xlabel('Threshold')\n",
    "plt.ylabel('Reliability')\n",
    "plt.title('Reliability')\n",
    "plt.grid(True)\n",
    "plt.savefig('Reliability.jpg')\n",
    "plt.show()"
   ]
  },
  {
   "cell_type": "code",
   "execution_count": null,
   "id": "e46782d6-682b-4f74-9624-2f4f737f9e52",
   "metadata": {},
   "outputs": [],
   "source": []
  },
  {
   "cell_type": "code",
   "execution_count": null,
   "id": "db098077-53e8-4e23-97a5-e42371f025fd",
   "metadata": {},
   "outputs": [],
   "source": []
  }
 ],
 "metadata": {
  "kernelspec": {
   "display_name": "Python 3 (ipykernel)",
   "language": "python",
   "name": "python3"
  },
  "language_info": {
   "codemirror_mode": {
    "name": "ipython",
    "version": 3
   },
   "file_extension": ".py",
   "mimetype": "text/x-python",
   "name": "python",
   "nbconvert_exporter": "python",
   "pygments_lexer": "ipython3",
   "version": "3.10.6"
  }
 },
 "nbformat": 4,
 "nbformat_minor": 5
}
