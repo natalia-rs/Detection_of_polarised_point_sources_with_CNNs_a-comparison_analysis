{
 "cells": [
  {
   "cell_type": "markdown",
   "id": "0dedbfc6-eef6-4d98-b40f-170a5c1593f3",
   "metadata": {},
   "source": [
    "#### **Parts:**\n",
    "1. Theoretical and simulated spectra: TT, EE, BB, TE\n",
    "2. Simulate point sources \n",
    "    1. Maps for T, Q, U, P\n",
    "    2. Maps for E, B\n",
    "3. Add white noise\n",
    "4. Labels\n",
    "5. Table"
   ]
  },
  {
   "cell_type": "code",
   "execution_count": 22,
   "id": "9c4f4537-9c11-40a3-97cc-295cbd3cb8cc",
   "metadata": {},
   "outputs": [],
   "source": [
    "import pandas as pd\n",
    "import healpy as hp\n",
    "import numpy as np\n",
    "import matplotlib.pyplot as plt\n",
    "import random\n",
    "import os\n",
    "import wget"
   ]
  },
  {
   "cell_type": "code",
   "execution_count": 23,
   "id": "36ef50a0-c680-4219-a8a3-7fe3809dffef",
   "metadata": {},
   "outputs": [],
   "source": [
    "# Map parameters\n",
    "nside = 1024\n",
    "fwhm_arcmin = 7.4 # Simons Observatory for 27GHz: https://arxiv.org/pdf/1808.07445.pdf\n",
    "fwhm = fwhm_arcmin * np.pi/(180*60) #rad\n",
    "l_pix = hp.nside2resol(nside, arcmin=False) # must be in radians\n",
    "npix = hp.nside2npix(nside)"
   ]
  },
  {
   "cell_type": "code",
   "execution_count": 24,
   "id": "695c32ef-288c-462e-b866-261932b2a9fa",
   "metadata": {},
   "outputs": [
    {
     "name": "stdout",
     "output_type": "stream",
     "text": [
      "Stored 'npix' (int)\n"
     ]
    }
   ],
   "source": [
    "%store npix"
   ]
  },
  {
   "cell_type": "code",
   "execution_count": 25,
   "id": "ef6387e2-b3b4-4cd9-aced-f06cc5fb4f0c",
   "metadata": {},
   "outputs": [
    {
     "name": "stdout",
     "output_type": "stream",
     "text": [
      "Stored 'nside' (int)\n",
      "Stored 'fwhm' (float)\n",
      "Stored 'l_pix' (float64)\n"
     ]
    }
   ],
   "source": [
    "%store nside\n",
    "%store fwhm\n",
    "%store l_pix"
   ]
  },
  {
   "cell_type": "markdown",
   "id": "31dbccdd-3157-4332-bf6c-f2758c817adf",
   "metadata": {},
   "source": [
    "#### **1. Theoretical and simulated spectra: TT, EE, BB, TE**"
   ]
  },
  {
   "cell_type": "code",
   "execution_count": 26,
   "id": "08cf0e8f-5145-4e5b-9911-264455b35820",
   "metadata": {},
   "outputs": [
    {
     "name": "stdout",
     "output_type": "stream",
     "text": [
      "File already exists\n"
     ]
    }
   ],
   "source": [
    "# We download the theoretical power spectrum Planck \n",
    "url = 'https://irsa.ipac.caltech.edu/data/Planck/release_3/ancillary-data/cosmoparams/COM_PowerSpect_CMB-base-plikHM-TTTEEE-lowl-lowE-lensing-minimum-theory_R3.01.txt'\n",
    "filename = 'Power_spectrum.txt'\n",
    "\n",
    "if not os.path.exists(filename):\n",
    "    wget.download(url, filename)\n",
    "else:\n",
    "    print(\"File already exists\")"
   ]
  },
  {
   "cell_type": "code",
   "execution_count": 27,
   "id": "666910e8-d79d-49bc-bb9a-7555fb57cabb",
   "metadata": {},
   "outputs": [],
   "source": [
    "# We read the data\n",
    "data = pd.read_fwf(filename, index_col=None, infer_nrows=2508)\n",
    "data = data.drop(columns=['#'])"
   ]
  },
  {
   "cell_type": "code",
   "execution_count": 28,
   "id": "c963a703-799d-4f00-9bfc-c860c2ffa089",
   "metadata": {},
   "outputs": [
    {
     "name": "stdout",
     "output_type": "stream",
     "text": [
      "Stored 'data' (DataFrame)\n"
     ]
    }
   ],
   "source": [
    "%store data"
   ]
  },
  {
   "cell_type": "markdown",
   "id": "3eb01ae4-cdf5-4091-af07-0dc131a93e7b",
   "metadata": {},
   "source": [
    "The power spectrum for the theoretical and simulated CMB is inside TT_27GHz.ipynb, EE_27GHz.ipynb, BB_27GHz.ipynb and TE_27GHz.ipynb"
   ]
  },
  {
   "cell_type": "markdown",
   "id": "353f9afc-b5b8-41d1-82be-5b6a8edd8d4c",
   "metadata": {},
   "source": [
    "#### **2. Simulate point sources**"
   ]
  },
  {
   "cell_type": "markdown",
   "id": "5194869b-b9af-426f-980a-a4a5358985be",
   "metadata": {},
   "source": [
    "The visualisation of the power spectrum for the point sources is inside TT.ipynb, EE.ipynb, BB.ipynb and TE.ipynb"
   ]
  },
  {
   "cell_type": "markdown",
   "id": "95d5372a-1348-4737-a434-9d01a6e97453",
   "metadata": {},
   "source": [
    "##### **For the map CMB + Point Sources + Noise, we simulate all the possible fluxes. On the other hand, for the map Labels, we only simulate fluxes above 500mJy. This cut-off is done in the section *6. Labels***"
   ]
  },
  {
   "cell_type": "markdown",
   "id": "7e2c79f6-3d6a-4194-ba5a-56aa79352f88",
   "metadata": {},
   "source": [
    "Inside the file Flux_Density_Distribution.ipynb in Number_Counts/Src"
   ]
  },
  {
   "cell_type": "code",
   "execution_count": 32,
   "id": "f7e91854-219e-4feb-95a4-4340aca8fefc",
   "metadata": {},
   "outputs": [],
   "source": [
    "%store -r S_new\n",
    "%store -r number_ps\n",
    "%store -r nu"
   ]
  },
  {
   "cell_type": "markdown",
   "id": "6e6ba14c-acfe-419d-ba5a-ec802f634328",
   "metadata": {},
   "source": [
    "### Adjustment of units: from Jy to K"
   ]
  },
  {
   "cell_type": "markdown",
   "id": "98c12385-9f65-436f-9b96-0f753b19ddec",
   "metadata": {},
   "source": [
    " $\\left.\\Delta I_{\\mathrm{cmb}}(\\hat{\\boldsymbol{x}}, \\nu) \\approx \\frac{\\partial B(\\nu, T)}{\\partial T}\\right|_{T=T_0} \\Delta T_{\\mathrm{cmb}}(\\hat{\\boldsymbol{x}})$ \n",
    " \n",
    " $\\left.\\frac{\\partial B(\\nu, T)}{\\partial T}\\right|_{T=T_0} \\approx 24.8\\left[\\frac{x^2}{\\sinh (x / 2)}\\right]^2 \\mathrm{Jy} \\mathrm{ sr}^{-1}(\\mu \\mathrm{K})^{-1}$"
   ]
  },
  {
   "cell_type": "markdown",
   "id": "34819e69-de82-478d-8ad8-ee948ed2272f",
   "metadata": {},
   "source": [
    "Source: Hobson et al. 1998 (https://arxiv.org/pdf/astro-ph/9806387.pdf)"
   ]
  },
  {
   "cell_type": "markdown",
   "id": "00b9e85c-e75b-4fbf-8752-edaab057f8f9",
   "metadata": {},
   "source": [
    "Therefore, $I_{\\mathrm{cmb}} = 24.8\\left[\\frac{x^2}{\\sinh (x / 2)}\\right]^2  \\cdot T_{\\mathrm{cmb}} \\hspace{0.4cm} \\mathrm{Jy} \\hspace{0.1cm} \\mathrm{ sr}^{-1}$"
   ]
  },
  {
   "cell_type": "markdown",
   "id": "c632d909-bc27-435c-ac8b-889e16c40d41",
   "metadata": {},
   "source": [
    "$$\n",
    "\\begin{align}\n",
    "\\boxed{T_{\\mathrm{cmb}} \\hspace{0.1cm}(\\mathrm{K}) = \\frac{1}{24.8}\\left[\\frac{\\sinh (x / 2)}{x^2}\\right]^2  \\cdot I_{\\mathrm{cmb}}[\\mathrm{Jy \\hspace{0.1cm} sr^{-1}}] \\cdot 10^{-6}}\n",
    "\\end{align}\n",
    "\\hspace{0.3cm}\\mathrm{with} \\hspace{0.3cm} x \\approx \\nu/56.8 \\hspace{0.1cm} \\mathrm{GHz}\n",
    "$$"
   ]
  },
  {
   "cell_type": "code",
   "execution_count": 34,
   "id": "acedf1ff-c810-4086-b56b-59239b0d572e",
   "metadata": {},
   "outputs": [],
   "source": [
    "# Convert Jy to Kelvin\n",
    "def jy_to_kelvin(nu, flux_jy, l_pix): #l_pix in rad\n",
    "    x = nu/56.8\n",
    "    prefactor = 1/24.8 * 10**(-6) * (np.sinh(x/2)/x**2)**2\n",
    "    T = prefactor * flux_jy\n",
    "    T = T/l_pix**2\n",
    "    return T\n",
    "T = jy_to_kelvin(nu, S_new, l_pix)"
   ]
  },
  {
   "cell_type": "markdown",
   "id": "b647fdd4-fea3-4d04-917d-612416df287a",
   "metadata": {},
   "source": [
    "#### **A) Maps for T, Q, U, P**"
   ]
  },
  {
   "cell_type": "code",
   "execution_count": 35,
   "id": "f7178f96-1b4d-4d90-b074-d61c34588ab4",
   "metadata": {},
   "outputs": [],
   "source": [
    "Pi = 0.02 # polarization degree\n",
    "P = Pi * T  # polarization intensity\n",
    "np.random.seed(0)\n",
    "phi = np.random.random(len(T)) * np.pi # random number [0,π)\n",
    "\n",
    "# Stokes' parameters\n",
    "Q = P * np.cos(2 * phi)\n",
    "U = P * np.sin(2 * phi)\n",
    "# rho is taken as 1, but the map is finally smoothed to achieve the radial profile behaviour"
   ]
  },
  {
   "cell_type": "markdown",
   "id": "21ca8670-8690-43ed-936f-c15e05f13528",
   "metadata": {},
   "source": [
    "##### ***Attention:** {T, Q, U, P} are variables that are not smoothed, but {ps_map_T, ps_map_Q, ps_map_U, ps_map_P} are smoothed. Also, {T, Q, U, P} are the quantities for the point sources, not the whole map*"
   ]
  },
  {
   "cell_type": "markdown",
   "id": "e4a0a29f-54d8-468f-8024-b11160a7209c",
   "metadata": {},
   "source": [
    "Important Note: the correct way to obtain the indices would be:\n",
    "```\n",
    "indices = np.random.choice(npix, size=number_ps_obs, replace=False)\n",
    "```\n",
    "so that the indices are not repeated"
   ]
  },
  {
   "cell_type": "code",
   "execution_count": 36,
   "id": "7e6274ab-67c2-4976-984f-1f7e6d646455",
   "metadata": {},
   "outputs": [],
   "source": [
    "# Generate random positions for the point sources\n",
    "indices = np.random.randint(0, npix, size=number_ps)"
   ]
  },
  {
   "cell_type": "code",
   "execution_count": 37,
   "id": "c8009986-df99-42f5-af5a-41b0fb1d4109",
   "metadata": {},
   "outputs": [],
   "source": [
    "# T Map: it is useful to store the unsmoothed map for later in Section 6\n",
    "ps_map_T_unsmoothed = np.zeros(npix)\n",
    "\n",
    "# Add point sources to the map\n",
    "ps_map_T_unsmoothed[indices] = T"
   ]
  },
  {
   "cell_type": "code",
   "execution_count": 38,
   "id": "f81ab4b9-a32f-4d79-86a7-2bfdb7c975e9",
   "metadata": {},
   "outputs": [],
   "source": [
    "# Q map\n",
    "ps_map_Q = np.zeros(npix)\n",
    "\n",
    "# Add point sources to the map\n",
    "ps_map_Q[indices] = Q"
   ]
  },
  {
   "cell_type": "code",
   "execution_count": 39,
   "id": "d51ecfeb-f69d-472d-a814-d676e5c0198f",
   "metadata": {},
   "outputs": [],
   "source": [
    "# U map\n",
    "ps_map_U = np.zeros(npix)\n",
    "\n",
    "# Add point sources to the map\n",
    "ps_map_U[indices] = U"
   ]
  },
  {
   "cell_type": "code",
   "execution_count": 40,
   "id": "8c3d4a89-2326-4989-b456-281fd7d8683b",
   "metadata": {},
   "outputs": [],
   "source": [
    "ps_map_T, ps_map_Q, ps_map_U = hp.smoothing([ps_map_T_unsmoothed, ps_map_Q, ps_map_U], fwhm, pol = True)"
   ]
  },
  {
   "cell_type": "code",
   "execution_count": 41,
   "id": "aa841a25-e225-4178-a0ca-c8995c7a9c91",
   "metadata": {},
   "outputs": [
    {
     "name": "stdout",
     "output_type": "stream",
     "text": [
      "Stored 'ps_map_T' (ndarray)\n",
      "Stored 'ps_map_Q' (ndarray)\n",
      "Stored 'ps_map_U' (ndarray)\n"
     ]
    }
   ],
   "source": [
    "%store ps_map_T\n",
    "%store ps_map_Q\n",
    "%store ps_map_U"
   ]
  },
  {
   "cell_type": "code",
   "execution_count": 42,
   "id": "a03128b0-a9b6-44f3-bbac-c43d5b446906",
   "metadata": {},
   "outputs": [],
   "source": [
    "# Obtain cl for the point sources map\n",
    "TT_cl, EE_cl, BB_cl, TE_cl, EB_cl, TB_cl = hp.anafast([ps_map_T,ps_map_Q,ps_map_U], pol=True, alm = False)"
   ]
  },
  {
   "cell_type": "code",
   "execution_count": 43,
   "id": "ded86b65-2a35-4512-adac-a20461afcbb8",
   "metadata": {},
   "outputs": [
    {
     "name": "stdout",
     "output_type": "stream",
     "text": [
      "Stored 'TT_cl' (ndarray)\n",
      "Stored 'EE_cl' (ndarray)\n",
      "Stored 'BB_cl' (ndarray)\n",
      "Stored 'TE_cl' (ndarray)\n"
     ]
    }
   ],
   "source": [
    "%store TT_cl\n",
    "%store EE_cl\n",
    "%store BB_cl\n",
    "%store TE_cl"
   ]
  },
  {
   "cell_type": "markdown",
   "id": "27f93007-00bf-47f6-a926-b46c8a1a28ec",
   "metadata": {},
   "source": [
    "##### **P map**"
   ]
  },
  {
   "cell_type": "code",
   "execution_count": 44,
   "id": "0c4f0cc8-7ce1-4828-afd1-4f0f41c87d47",
   "metadata": {},
   "outputs": [],
   "source": [
    "# P map\n",
    "ps_map_P = np.zeros(npix)\n",
    "\n",
    "# Add point sources to the map\n",
    "ps_map_P = np.sqrt(ps_map_Q**2+ps_map_U**2) # already smoothed\n"
   ]
  },
  {
   "cell_type": "code",
   "execution_count": 45,
   "id": "d520addd-b834-4fbc-a05f-95708f552eb0",
   "metadata": {},
   "outputs": [
    {
     "name": "stdout",
     "output_type": "stream",
     "text": [
      "Stored 'ps_map_P' (ndarray)\n"
     ]
    }
   ],
   "source": [
    "%store ps_map_P"
   ]
  },
  {
   "cell_type": "markdown",
   "id": "6b40da55-56da-40a5-b69d-d53609c0ae4a",
   "metadata": {},
   "source": [
    "#### **B) Maps for E and B**"
   ]
  },
  {
   "cell_type": "markdown",
   "id": "4f351357-56ea-4dae-8577-5eb52c50bf93",
   "metadata": {},
   "source": [
    "Inside the file EB_maps_27GHz.ipynb"
   ]
  },
  {
   "cell_type": "code",
   "execution_count": 68,
   "id": "96741275-6830-417e-b0f0-3c994bfb6580",
   "metadata": {},
   "outputs": [],
   "source": [
    "%store -r E\n",
    "%store -r B"
   ]
  },
  {
   "cell_type": "markdown",
   "id": "a735dd05-0b11-44e8-8e4b-a3ab0d638bdd",
   "metadata": {},
   "source": [
    "#### **3. Add white noise**"
   ]
  },
  {
   "cell_type": "markdown",
   "id": "73086fe6-0e81-45cc-ae25-000b5a03fc30",
   "metadata": {},
   "source": [
    "Inside the file White_noise_27GHz.ipynb"
   ]
  },
  {
   "cell_type": "markdown",
   "id": "931c6dfa-744b-4fcd-a25b-2b07a99594dc",
   "metadata": {},
   "source": [
    "The visualisation of the power spectrum for the point sources is inside TT.ipynb, EE.ipynb, BB.ipynb and TE.ipynb"
   ]
  },
  {
   "cell_type": "markdown",
   "id": "3b6b3a4a-273f-4bb8-b249-631dc855516c",
   "metadata": {},
   "source": [
    "#### **4. Labels**"
   ]
  },
  {
   "cell_type": "markdown",
   "id": "a83b5dc0-43f2-4d87-8a25-db7274d698b5",
   "metadata": {},
   "source": [
    "Tests done previously in the folder Test_patches_labels.ipynb"
   ]
  },
  {
   "cell_type": "markdown",
   "id": "ceb632d2-96a6-45ca-b25f-351a79965121",
   "metadata": {},
   "source": [
    "##### **Cut-off**"
   ]
  },
  {
   "cell_type": "markdown",
   "id": "fb0227bd-f7e1-41fc-a8c7-3c817dc41b6b",
   "metadata": {},
   "source": [
    "Given that there are many sources and most of them have very low fluxes (which will be hidden by the cmb), they end up forming almost a continuum of emission as if it were a background or extra noise. In reality, it is impossible to separate specific sources from this background, so what we do to avoid asking for the impossible and confusing the network is to distinguish between detectable and non-detectable sources. The idea is to include all the sources generated in the cmb + sources + noise maps passed to the network as a training (and validation) signal, but only label a fraction of them."
   ]
  },
  {
   "cell_type": "code",
   "execution_count": 46,
   "id": "d79c19c9-bb8a-4c49-9a86-34721a8ca546",
   "metadata": {},
   "outputs": [],
   "source": [
    "# Define the flux threshold and convert to Kelvin\n",
    "S_threshold = 500e-03 # In Jy\n",
    "T_threshold = jy_to_kelvin(nu, S_threshold, l_pix)\n",
    "\n",
    "# Find the indices of the point sources where the flux is above the threshold\n",
    "indices_threshold = np.where(ps_map_T_unsmoothed > T_threshold)[0]\n",
    "\n",
    "# Select the values of the flux S_new above the threshold and convert to Kelvin\n",
    "S_new_threshold = S_new[S_new > S_threshold]\n",
    "T_new_threshold = jy_to_kelvin(nu, S_new_threshold, l_pix)"
   ]
  },
  {
   "cell_type": "code",
   "execution_count": 47,
   "id": "e28aa84e-af40-4bdf-bda0-30e515890a1c",
   "metadata": {},
   "outputs": [
    {
     "name": "stdout",
     "output_type": "stream",
     "text": [
      "3337\n",
      "3784\n"
     ]
    }
   ],
   "source": [
    "# Problem: the number of PS above the threshold do not match. This may be due to superposition of point sources\n",
    "print(len(indices_threshold))\n",
    "print(len(S_new_threshold))"
   ]
  },
  {
   "cell_type": "code",
   "execution_count": 48,
   "id": "2cafdd5a-42f3-4610-9230-2593d9e57904",
   "metadata": {},
   "outputs": [],
   "source": [
    "# We set the maximum and minimum flux [Jy]. As a comparison, np.max(S_new)= 9.6 and np.min(S_new)=1e-3\n",
    "P_min = S_threshold \n",
    "P_max = 1"
   ]
  },
  {
   "cell_type": "code",
   "execution_count": 49,
   "id": "a62e7926-fff8-4223-aa98-757fa589d9b4",
   "metadata": {},
   "outputs": [],
   "source": [
    "# We convert to Kelvin\n",
    "T_min = jy_to_kelvin(nu, P_min, l_pix)\n",
    "T_max = jy_to_kelvin(nu, P_max, l_pix)"
   ]
  },
  {
   "cell_type": "code",
   "execution_count": 50,
   "id": "adae83cd-ad54-4fb5-b038-d9c3a2c2a69b",
   "metadata": {},
   "outputs": [],
   "source": [
    "r_min = 3.5 * np.pi/180/60  # rad\n",
    "r_max = 13 * np.pi/180/60  # rad"
   ]
  },
  {
   "cell_type": "code",
   "execution_count": 51,
   "id": "45001e71-1de6-436e-9c1e-00d3ae6cf65d",
   "metadata": {},
   "outputs": [],
   "source": [
    "# Calculate radii\n",
    "m = (r_max - r_min) / (T_max - T_min)\n",
    "r = r_min + m * (T_new_threshold - T_min)\n",
    "r[r < r_min] = 0\n",
    "r[r > r_max] = r_max "
   ]
  },
  {
   "cell_type": "code",
   "execution_count": 53,
   "id": "6bd1f783-a679-4958-b978-2b0c15b4db88",
   "metadata": {},
   "outputs": [],
   "source": [
    "map_labels = np.zeros(npix)\n",
    "# Fill the map with the point sources and their radii\n",
    "for i, pos in enumerate(indices_threshold):\n",
    "    vec = hp.pix2vec(nside, pos)\n",
    "    r_i = r[i]\n",
    "    idx = hp.query_disc(nside, vec, r_i)\n",
    "    map_labels[idx] = 1\n",
    "    "
   ]
  },
  {
   "cell_type": "code",
   "execution_count": 54,
   "id": "03a57f90-af1d-468c-903f-2d506042fbf1",
   "metadata": {},
   "outputs": [
    {
     "name": "stdout",
     "output_type": "stream",
     "text": [
      "Stored 'map_labels' (ndarray)\n"
     ]
    }
   ],
   "source": [
    "%store map_labels"
   ]
  },
  {
   "cell_type": "code",
   "execution_count": 55,
   "id": "91ec4552-6027-498d-94e5-913b654830d8",
   "metadata": {},
   "outputs": [
    {
     "data": {
      "image/png": "[encoded data removed]",
      "text/plain": [
       "<Figure size 850x540 with 2 Axes>"
      ]
     },
     "metadata": {},
     "output_type": "display_data"
    }
   ],
   "source": [
    "# Show the map\n",
    "hp.mollview(map_labels, title='Point sources with assigned radii')\n",
    "plt.savefig('Sky_map_labels.png', dpi=300)"
   ]
  },
  {
   "cell_type": "markdown",
   "id": "41f78e1a-f1c6-4905-8768-5f34356c5983",
   "metadata": {},
   "source": [
    "In the file Zoomed_in_patches.ipynb you can find the zoomed maps for ps_map_T, ps_map_Q, ps_map_U and map_labels"
   ]
  },
  {
   "cell_type": "markdown",
   "id": "0d5366d0-0852-42d5-8442-06d3814e9291",
   "metadata": {},
   "source": [
    "#### **5. Table**"
   ]
  },
  {
   "cell_type": "markdown",
   "id": "7b68a97b-0fe6-4d9e-98ac-f0159822c18b",
   "metadata": {},
   "source": [
    "Inside the file Table_27GHz.ipynb"
   ]
  },
  {
   "cell_type": "markdown",
   "id": "47b4158f-7cda-4447-88a6-fda2fbcd3a7f",
   "metadata": {},
   "source": [
    "Is it for the labels? Different flux limits!"
   ]
  },
  {
   "cell_type": "code",
   "execution_count": 31,
   "id": "cbba6288-01cd-4aaf-b9aa-ef0bcd575ff7",
   "metadata": {},
   "outputs": [
    {
     "name": "stdout",
     "output_type": "stream",
     "text": [
      "Stored 'indices' (ndarray)\n",
      "Stored 'T' (ndarray)\n",
      "Stored 'Q' (ndarray)\n",
      "Stored 'U' (ndarray)\n",
      "Stored 'phi' (float)\n"
     ]
    }
   ],
   "source": [
    "%store indices\n",
    "%store T\n",
    "%store Q\n",
    "%store U\n",
    "%store phi"
   ]
  },
  {
   "cell_type": "code",
   "execution_count": 32,
   "id": "6b1ff544-d449-47dc-b6e6-2c1a1ae27d61",
   "metadata": {},
   "outputs": [
    {
     "name": "stdout",
     "output_type": "stream",
     "text": [
      "Stored 'indices_threshold' (ndarray)\n"
     ]
    }
   ],
   "source": [
    "%store indices_threshold"
   ]
  },
  {
   "cell_type": "code",
   "execution_count": 33,
   "id": "b79621d4-4745-4fa4-aa66-4268fed62bdc",
   "metadata": {},
   "outputs": [
    {
     "name": "stdout",
     "output_type": "stream",
     "text": [
      "Stored 'T_new_threshold' (ndarray)\n"
     ]
    }
   ],
   "source": [
    "%store T_new_threshold"
   ]
  },
  {
   "cell_type": "markdown",
   "id": "eb758d3b-a4b6-4d89-8973-aad3397a0a2f",
   "metadata": {},
   "source": [
    "#### **Other**"
   ]
  },
  {
   "cell_type": "code",
   "execution_count": 34,
   "id": "e53594ae-1fc1-44fc-9d0b-9fc2de180e69",
   "metadata": {},
   "outputs": [],
   "source": [
    "del ps_map_T\n",
    "del ps_map_Q\n",
    "del ps_map_U\n",
    "del ps_map_P\n",
    "del E\n",
    "del B\n",
    "del T\n",
    "del Q\n",
    "del U\n",
    "del map_labels "
   ]
  },
  {
   "cell_type": "markdown",
   "id": "2cf2602a-46cd-40d8-a25d-1b1766070762",
   "metadata": {},
   "source": [
    "##### **Some possible useful commands**"
   ]
  },
  {
   "cell_type": "markdown",
   "id": "77685504-0f42-4ba2-afd3-60f66102b6e5",
   "metadata": {},
   "source": [
    "```\n",
    "# We can convert rad to pix\n",
    "def rad2pix(size_arcmin):\n",
    "    res = np.sqrt(4*np.pi/(12*nside**2))\n",
    "    pixel_size = size_rad / res\n",
    "    return pixel_size\n",
    "```"
   ]
  },
  {
   "cell_type": "code",
   "execution_count": null,
   "id": "da23e068-5609-4a84-b3dc-7dcba51b1056",
   "metadata": {},
   "outputs": [],
   "source": []
  }
 ],
 "metadata": {
  "kernelspec": {
   "display_name": "Python 3 (ipykernel)",
   "language": "python",
   "name": "python3"
  },
  "language_info": {
   "codemirror_mode": {
    "name": "ipython",
    "version": 3
   },
   "file_extension": ".py",
   "mimetype": "text/x-python",
   "name": "python",
   "nbconvert_exporter": "python",
   "pygments_lexer": "ipython3",
   "version": "3.10.6"
  }
 },
 "nbformat": 4,
 "nbformat_minor": 5
}
