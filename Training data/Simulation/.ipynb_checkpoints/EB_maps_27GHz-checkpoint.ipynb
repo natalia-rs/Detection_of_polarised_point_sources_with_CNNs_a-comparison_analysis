{
 "cells": [
  {
   "cell_type": "markdown",
   "id": "2c869e16-f366-4ea5-8e7c-3734f7db38e5",
   "metadata": {},
   "source": [
    "#### **E and B maps**"
   ]
  },
  {
   "cell_type": "code",
   "execution_count": 1,
   "id": "ae82a980-ed32-487a-9fb8-2ade2bc769a2",
   "metadata": {},
   "outputs": [],
   "source": [
    "import healpy as hp"
   ]
  },
  {
   "cell_type": "code",
   "execution_count": 2,
   "id": "ea304f83-de72-4a33-b95d-3e2176ad7fbf",
   "metadata": {},
   "outputs": [],
   "source": [
    "%store -r ps_map_T\n",
    "%store -r ps_map_Q\n",
    "%store -r ps_map_U\n",
    "%store -r nside"
   ]
  },
  {
   "cell_type": "code",
   "execution_count": 3,
   "id": "9bf1951b-e0bf-4fda-97fc-c93e3080499a",
   "metadata": {},
   "outputs": [],
   "source": [
    "t_lm, e_lm, b_lm = hp.map2alm([ps_map_T, ps_map_Q, ps_map_U], pol=True)"
   ]
  },
  {
   "cell_type": "markdown",
   "id": "eaea0616-9bef-4d44-8d8a-e3e53e657a47",
   "metadata": {},
   "source": [
    "As [ps_map_T, ps_map_Q, ps_map_U] are smoothed, I assume the rest of these maps are too"
   ]
  },
  {
   "cell_type": "code",
   "execution_count": 4,
   "id": "6057c017-ae9d-4319-9962-b414e534bbae",
   "metadata": {},
   "outputs": [],
   "source": [
    "E = hp.alm2map(e_lm, nside, pol=False)\n",
    "B = hp.alm2map(b_lm, nside, pol=False)"
   ]
  },
  {
   "cell_type": "code",
   "execution_count": 5,
   "id": "0952f11e-fb26-4d32-a42d-5e9ba7c8876a",
   "metadata": {},
   "outputs": [
    {
     "name": "stdout",
     "output_type": "stream",
     "text": [
      "Stored 'E' (ndarray)\n",
      "Stored 'B' (ndarray)\n"
     ]
    }
   ],
   "source": [
    "%store E\n",
    "%store B"
   ]
  }
 ],
 "metadata": {
  "kernelspec": {
   "display_name": "Python 3 (ipykernel)",
   "language": "python",
   "name": "python3"
  },
  "language_info": {
   "codemirror_mode": {
    "name": "ipython",
    "version": 3
   },
   "file_extension": ".py",
   "mimetype": "text/x-python",
   "name": "python",
   "nbconvert_exporter": "python",
   "pygments_lexer": "ipython3",
   "version": "3.10.6"
  }
 },
 "nbformat": 4,
 "nbformat_minor": 5
}
