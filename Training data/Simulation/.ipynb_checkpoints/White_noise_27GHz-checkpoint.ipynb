{
 "cells": [
  {
   "cell_type": "markdown",
   "id": "4c6b7dfa-9115-4206-9cab-4a278dbd4873",
   "metadata": {},
   "source": [
    "#### **White noise for TT, EE, BB, TE**"
   ]
  },
  {
   "cell_type": "code",
   "execution_count": 2,
   "id": "eacb6ccf-a990-4269-ba85-b7ee35063558",
   "metadata": {},
   "outputs": [],
   "source": [
    "import pandas as pd\n",
    "import healpy as hp\n",
    "import numpy as np\n",
    "import matplotlib.pyplot as plt"
   ]
  },
  {
   "cell_type": "code",
   "execution_count": 3,
   "id": "03874ffb-98bb-4797-85f2-05b45587b6e4",
   "metadata": {},
   "outputs": [],
   "source": [
    "%store -r nside\n",
    "%store -r ps_map_T\n",
    "%store -r ps_map_Q\n",
    "%store -r ps_map_U"
   ]
  },
  {
   "cell_type": "code",
   "execution_count": 4,
   "id": "730dd037-e56a-4955-9d47-c1bbe82947d8",
   "metadata": {},
   "outputs": [],
   "source": [
    "# Simons observatory noise (goal) https://arxiv.org/pdf/1808.07445.pdf\n",
    "l_pix_arcmin = hp.nside2resol(nside, arcmin=True)\n",
    "sigma_1arcmin = 52 * 1e-6 #K-arcmin\n",
    "sigma_pixarcmin = sigma_1arcmin / l_pix_arcmin # less noise for larger pixel arcmin (l_pix>1arcmin)"
   ]
  },
  {
   "cell_type": "markdown",
   "id": "857e2edf-a590-416d-90ce-f8e494673033",
   "metadata": {},
   "source": [
    "##### **Noise for T**"
   ]
  },
  {
   "cell_type": "code",
   "execution_count": 5,
   "id": "82c681fe-e5ea-4f20-bd55-5b94a3eb14be",
   "metadata": {},
   "outputs": [],
   "source": [
    "np.random.seed(38)\n",
    "noise_T = np.random.normal(0, sigma_pixarcmin, len(ps_map_T))"
   ]
  },
  {
   "cell_type": "markdown",
   "id": "26f351fb-1f62-4882-b036-76ddc58d2762",
   "metadata": {},
   "source": [
    "##### **Noise for Q, U**"
   ]
  },
  {
   "cell_type": "code",
   "execution_count": 6,
   "id": "463f063d-4348-42f6-95c3-a93d8f45f594",
   "metadata": {},
   "outputs": [],
   "source": [
    "noise_Q = np.sqrt(2) * np.random.normal(0, sigma_pixarcmin, len(ps_map_Q))\n",
    "noise_U = np.sqrt(2) * np.random.normal(0, sigma_pixarcmin, len(ps_map_U))"
   ]
  },
  {
   "cell_type": "code",
   "execution_count": 7,
   "id": "c7d9a0b8-7a8b-4e59-8d0f-ed196bd04bbf",
   "metadata": {},
   "outputs": [],
   "source": [
    "noise_maps = [noise_T, noise_Q, noise_U]\n",
    "cl_noise_simulated = hp.anafast(noise_maps, pol=True, alm=False)\n",
    "\n",
    "cl_noise_TT_simulated = cl_noise_simulated[0]\n",
    "cl_noise_EE_simulated = cl_noise_simulated[1]\n",
    "cl_noise_BB_simulated = cl_noise_simulated[2]\n",
    "cl_noise_TE_simulated = cl_noise_simulated[3]\n"
   ]
  },
  {
   "cell_type": "code",
   "execution_count": 8,
   "id": "509d04af-3a78-420f-8c5b-b3e2b4391813",
   "metadata": {},
   "outputs": [
    {
     "name": "stdout",
     "output_type": "stream",
     "text": [
      "Stored 'cl_noise_TT_simulated' (ndarray)\n",
      "Stored 'cl_noise_EE_simulated' (ndarray)\n",
      "Stored 'cl_noise_BB_simulated' (ndarray)\n",
      "Stored 'cl_noise_TE_simulated' (ndarray)\n"
     ]
    }
   ],
   "source": [
    "%store cl_noise_TT_simulated\n",
    "%store cl_noise_EE_simulated\n",
    "%store cl_noise_BB_simulated\n",
    "%store cl_noise_TE_simulated"
   ]
  },
  {
   "cell_type": "code",
   "execution_count": 9,
   "id": "ed6cbbae-7e1d-4fca-a171-53a7e164d587",
   "metadata": {},
   "outputs": [
    {
     "name": "stdout",
     "output_type": "stream",
     "text": [
      "Stored 'noise_T' (ndarray)\n",
      "Stored 'noise_Q' (ndarray)\n",
      "Stored 'noise_U' (ndarray)\n"
     ]
    }
   ],
   "source": [
    "%store noise_T\n",
    "%store noise_Q\n",
    "%store noise_U"
   ]
  },
  {
   "cell_type": "code",
   "execution_count": null,
   "id": "b0edf9f1-80b3-42c2-804b-8fb3b9614871",
   "metadata": {},
   "outputs": [],
   "source": []
  }
 ],
 "metadata": {
  "kernelspec": {
   "display_name": "Python 3 (ipykernel)",
   "language": "python",
   "name": "python3"
  },
  "language_info": {
   "codemirror_mode": {
    "name": "ipython",
    "version": 3
   },
   "file_extension": ".py",
   "mimetype": "text/x-python",
   "name": "python",
   "nbconvert_exporter": "python",
   "pygments_lexer": "ipython3",
   "version": "3.10.6"
  }
 },
 "nbformat": 4,
 "nbformat_minor": 5
}
