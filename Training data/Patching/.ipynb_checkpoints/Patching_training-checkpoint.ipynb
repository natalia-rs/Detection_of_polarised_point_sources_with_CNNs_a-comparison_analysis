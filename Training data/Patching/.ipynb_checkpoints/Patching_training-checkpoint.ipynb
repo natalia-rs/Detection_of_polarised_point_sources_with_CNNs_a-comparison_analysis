{
 "cells": [
  {
   "cell_type": "markdown",
   "id": "96d7fc43-d9eb-401d-8da5-d9855307aeec",
   "metadata": {},
   "source": [
    "#### **Input maps for the CNN**"
   ]
  },
  {
   "cell_type": "code",
   "execution_count": 1,
   "id": "b6aa7dfe-a607-4824-9dad-06d42d6826a9",
   "metadata": {},
   "outputs": [],
   "source": [
    "import numpy as np\n",
    "import pandas as pd\n",
    "import healpy as hp\n",
    "import matplotlib.pyplot as plt\n",
    "from sklearn.model_selection import train_test_split"
   ]
  },
  {
   "cell_type": "code",
   "execution_count": 2,
   "id": "b5435ee3-76cb-43ec-a9f6-c43fde1970b6",
   "metadata": {},
   "outputs": [],
   "source": [
    "%store -r map_labels\n",
    "%store -r nside\n",
    "%store -r fwhm"
   ]
  },
  {
   "cell_type": "code",
   "execution_count": 3,
   "id": "69af2a8e-c5c7-46ee-a1d8-a0133ba1ffa8",
   "metadata": {},
   "outputs": [],
   "source": [
    "# Point source map\n",
    "%store -r ps_map_Q\n",
    "%store -r ps_map_U"
   ]
  },
  {
   "cell_type": "code",
   "execution_count": 4,
   "id": "f0556ecc-41d6-43bb-b171-34ec3c5ca9d2",
   "metadata": {},
   "outputs": [],
   "source": [
    "# Noise map\n",
    "%store -r noise_Q\n",
    "%store -r noise_U"
   ]
  },
  {
   "cell_type": "code",
   "execution_count": 5,
   "id": "9f366e99-1c96-4a53-a4dc-0af3472e63e7",
   "metadata": {},
   "outputs": [],
   "source": [
    "# Power spectrum of the simulated CMB map\n",
    "%store -r cl_TT_simulated\n",
    "%store -r cl_EE_simulated\n",
    "%store -r cl_BB_simulated\n",
    "%store -r cl_TE_simulated"
   ]
  },
  {
   "cell_type": "code",
   "execution_count": 6,
   "id": "06ee307f-e22e-44fb-9bd4-cf39c6048589",
   "metadata": {},
   "outputs": [],
   "source": [
    "# Create CMB maps from the cls\n",
    "cmb_simulated_cls = [cl_TT_simulated, cl_EE_simulated, cl_BB_simulated, cl_TE_simulated]\n",
    "cmb_simulated_maps = hp.synfast(cmb_simulated_cls, nside, pol=True, fwhm=fwhm, new=True) \n",
    "cmb_Q = cmb_simulated_maps[1]\n",
    "cmb_U = cmb_simulated_maps[2]"
   ]
  },
  {
   "cell_type": "code",
   "execution_count": 7,
   "id": "3ab064bb-2870-41c4-a2b0-c61b6f637e2b",
   "metadata": {},
   "outputs": [],
   "source": [
    "# Data input map \n",
    "data_Q_map = cmb_Q + ps_map_Q + noise_Q\n",
    "data_U_map = cmb_U + ps_map_U + noise_U\n",
    "data_P_map = np.sqrt(data_Q_map**2 + data_U_map**2)"
   ]
  },
  {
   "cell_type": "code",
   "execution_count": 8,
   "id": "8deec27e-c86e-4cf4-beff-f26d5a8d4048",
   "metadata": {},
   "outputs": [],
   "source": [
    "# Centers of patches for 3.63º x 3.63º (https://arxiv.org/abs/1909.04701)\n",
    "df = pd.read_csv(\"lon_lat13deg2.txt\", header=None, delim_whitespace=True, names=[\"lon\", \"lat\"]) \n",
    "coords = np.array(df)\n",
    "lon = coords[:,0]\n",
    "lat = coords[:,1]"
   ]
  },
  {
   "cell_type": "code",
   "execution_count": 9,
   "id": "bc56b22b-48aa-42d9-bb5d-4cc95424f6d4",
   "metadata": {},
   "outputs": [
    {
     "name": "stdout",
     "output_type": "stream",
     "text": [
      "Stored 'lon' (ndarray)\n",
      "Stored 'lat' (ndarray)\n"
     ]
    }
   ],
   "source": [
    "%store lon\n",
    "%store lat"
   ]
  },
  {
   "cell_type": "code",
   "execution_count": 10,
   "id": "16524944-aad5-4149-8dc5-5460c0a6bf37",
   "metadata": {},
   "outputs": [],
   "source": [
    "# Map division with hp.gnomview \n",
    "reso = hp.nside2resol(nside, arcmin=True) # 2D map same pixel resolution as the 3D map of the sphere so that after the projection it is not very deformed\n",
    "xsize = 64"
   ]
  },
  {
   "cell_type": "code",
   "execution_count": 11,
   "id": "297130dc-8a41-45ce-9572-586cee18c853",
   "metadata": {},
   "outputs": [
    {
     "name": "stdout",
     "output_type": "stream",
     "text": [
      "Stored 'xsize' (int)\n",
      "Stored 'reso' (float64)\n"
     ]
    }
   ],
   "source": [
    "%store xsize\n",
    "%store reso"
   ]
  },
  {
   "cell_type": "code",
   "execution_count": 12,
   "id": "f1f0aaf7-d230-4764-9357-e051d0d67ddb",
   "metadata": {},
   "outputs": [],
   "source": [
    "# For the map_labels\n",
    "map_cut_labels = [hp.gnomview(map_labels, rot=[lon[i], lat[i]], xsize = xsize, reso = reso, return_projected_map = True, no_plot = True) for i in range(len(coords))]"
   ]
  },
  {
   "cell_type": "code",
   "execution_count": 13,
   "id": "d3034122-3df0-4027-9df5-76aaba1cf8fe",
   "metadata": {},
   "outputs": [],
   "source": [
    "# For the data\n",
    "map_cut_data_P = [hp.gnomview(data_P_map, rot=[lon[i], lat[i]], xsize = xsize, reso = reso, return_projected_map = True, no_plot = True) for i in range(len(coords))]"
   ]
  },
  {
   "cell_type": "code",
   "execution_count": 14,
   "id": "bca56c7d-5296-41bb-b821-3ae0643229ec",
   "metadata": {},
   "outputs": [],
   "source": [
    "map_cut_data_Q = [hp.gnomview(data_Q_map, rot=[lon[i], lat[i]], xsize = xsize, reso = reso, return_projected_map = True, no_plot = True) for i in range(len(coords))]"
   ]
  },
  {
   "cell_type": "code",
   "execution_count": 15,
   "id": "97d0d8f1-ec27-454a-acd8-b9aa359dabb5",
   "metadata": {},
   "outputs": [],
   "source": [
    "map_cut_data_U = [hp.gnomview(data_U_map, rot=[lon[i], lat[i]], xsize = xsize, reso = reso, return_projected_map = True, no_plot = True) for i in range(len(coords))]"
   ]
  },
  {
   "cell_type": "code",
   "execution_count": 16,
   "id": "df74a6f7-2476-480e-b44a-25551b4bbeed",
   "metadata": {},
   "outputs": [],
   "source": [
    "map_cut_labels = np.array(map_cut_labels)"
   ]
  },
  {
   "cell_type": "code",
   "execution_count": 17,
   "id": "27f2b274-889d-474d-ad74-e8af29dd974c",
   "metadata": {},
   "outputs": [],
   "source": [
    "def reshape(array):\n",
    "    N = len(array)\n",
    "    return np.reshape(array, (N, xsize, xsize, 1))"
   ]
  },
  {
   "cell_type": "code",
   "execution_count": 18,
   "id": "b480dea6-c7db-4cb8-bbc8-a7599455dd80",
   "metadata": {},
   "outputs": [],
   "source": [
    "map_cut_labels = reshape(map_cut_labels)"
   ]
  },
  {
   "cell_type": "code",
   "execution_count": 19,
   "id": "ca48f10b-b55c-4b06-9aa3-d91512b2dc81",
   "metadata": {},
   "outputs": [],
   "source": [
    "# Convert to array to then reshape\n",
    "map_cut_labels = np.array(map_cut_labels)\n",
    "map_cut_data_P = np.array(map_cut_data_P)\n",
    "map_cut_data_Q = np.array(map_cut_data_Q)\n",
    "map_cut_data_U = np.array(map_cut_data_U)"
   ]
  },
  {
   "cell_type": "code",
   "execution_count": 20,
   "id": "4f9b3946-a8e0-4302-83d7-0967f9028a3d",
   "metadata": {},
   "outputs": [],
   "source": [
    "# Reshape data and labels\n",
    "def reshape(array):\n",
    "    N = len(array)\n",
    "    return np.reshape(array, (N, xsize, xsize, 1))\n",
    "map_cut_data_P = reshape(map_cut_data_P)\n",
    "map_cut_data_Q = reshape(map_cut_data_Q)\n",
    "map_cut_data_U = reshape(map_cut_data_U)\n",
    "map_cut_labels = reshape(map_cut_labels)"
   ]
  },
  {
   "cell_type": "code",
   "execution_count": 21,
   "id": "5cb4281d-add7-447f-bd5a-29d90cbc3c78",
   "metadata": {},
   "outputs": [],
   "source": [
    "map_cut_data_QU = np.concatenate((map_cut_data_Q, map_cut_data_U), axis = -1)"
   ]
  },
  {
   "cell_type": "code",
   "execution_count": 22,
   "id": "0893adda-a2cb-4930-9d1d-53069775f671",
   "metadata": {},
   "outputs": [],
   "source": [
    "# Split data into 2 parts: 20% for validation (test_size), 80% for training\n",
    "data_train_P, data_val_P = train_test_split(map_cut_data_P, test_size=0.2, random_state=42)\n",
    "data_train_QU, data_val_QU = train_test_split(map_cut_data_QU, test_size=0.2, random_state=42)\n",
    "label_train, label_val = train_test_split(map_cut_labels, test_size=0.2, random_state=42)"
   ]
  },
  {
   "cell_type": "code",
   "execution_count": 23,
   "id": "a296cee1-e620-4d24-b0c4-ba02d3ae4e02",
   "metadata": {},
   "outputs": [
    {
     "name": "stdout",
     "output_type": "stream",
     "text": [
      "Stored 'data_train_P' (ndarray)\n",
      "Stored 'data_val_P' (ndarray)\n",
      "Stored 'data_train_QU' (ndarray)\n",
      "Stored 'data_val_QU' (ndarray)\n",
      "Stored 'label_train' (ndarray)\n",
      "Stored 'label_val' (ndarray)\n"
     ]
    }
   ],
   "source": [
    "%store data_train_P\n",
    "%store data_val_P\n",
    "%store data_train_QU\n",
    "%store data_val_QU\n",
    "%store label_train\n",
    "%store label_val"
   ]
  },
  {
   "cell_type": "code",
   "execution_count": 24,
   "id": "ff5a43d9-62fc-49a9-9feb-4df754e06604",
   "metadata": {},
   "outputs": [
    {
     "name": "stdout",
     "output_type": "stream",
     "text": [
      "Stored 'map_cut_labels' (ndarray)\n"
     ]
    }
   ],
   "source": [
    "%store map_cut_labels"
   ]
  },
  {
   "cell_type": "code",
   "execution_count": 25,
   "id": "d6762062-3cf3-4477-afc1-871d8b51867b",
   "metadata": {},
   "outputs": [
    {
     "name": "stdout",
     "output_type": "stream",
     "text": [
      "Stored 'map_cut_data_P' (ndarray)\n"
     ]
    }
   ],
   "source": [
    "%store map_cut_data_P"
   ]
  },
  {
   "cell_type": "markdown",
   "id": "cf3ffa28-a889-4b10-8a24-e37a71be6f4d",
   "metadata": {},
   "source": [
    "#### **EB**"
   ]
  },
  {
   "cell_type": "code",
   "execution_count": 26,
   "id": "de59be4b-ccc8-47de-9cc2-cbbd6f0026fb",
   "metadata": {},
   "outputs": [],
   "source": [
    "cmb_E = hp.synfast(cl_EE_simulated, nside = nside, pol = False, fwhm = fwhm)\n",
    "cmb_B = hp.synfast(cl_BB_simulated, nside = nside, pol = False, fwhm = fwhm)"
   ]
  },
  {
   "cell_type": "code",
   "execution_count": 27,
   "id": "9f6e0d17-855e-40d7-b0b7-3d763795164d",
   "metadata": {},
   "outputs": [],
   "source": [
    "# Point sources:\n",
    "%store -r E\n",
    "%store -r B"
   ]
  },
  {
   "cell_type": "code",
   "execution_count": 28,
   "id": "88414c18-faf3-4d97-bdc6-8f526eb536e0",
   "metadata": {},
   "outputs": [],
   "source": [
    "%store -r cl_noise_EE_simulated\n",
    "%store -r cl_noise_BB_simulated"
   ]
  },
  {
   "cell_type": "code",
   "execution_count": 29,
   "id": "e290208e-83cc-423d-a4d0-79e7a41b819f",
   "metadata": {},
   "outputs": [],
   "source": [
    "noise_E = hp.synfast(cl_noise_EE_simulated, nside = nside, pol = False, fwhm = fwhm)\n",
    "noise_B = hp.synfast(cl_noise_BB_simulated, nside = nside, pol = False, fwhm = fwhm)"
   ]
  },
  {
   "cell_type": "code",
   "execution_count": 30,
   "id": "1f8c770b-6cd0-4bdc-bd98-14ab2563df2e",
   "metadata": {},
   "outputs": [],
   "source": [
    "data_E_map = cmb_E + E + noise_E\n",
    "data_B_map = cmb_B + B + noise_B"
   ]
  },
  {
   "cell_type": "code",
   "execution_count": 31,
   "id": "bd8ec565-c047-4e05-9551-38b9f9fc58fb",
   "metadata": {},
   "outputs": [],
   "source": [
    "map_cut_data_E = [hp.gnomview(data_E_map, rot=[lon[i], lat[i]], xsize = xsize, reso = reso, return_projected_map = True, no_plot = True) for i in range(len(coords))]"
   ]
  },
  {
   "cell_type": "code",
   "execution_count": 32,
   "id": "40be9316-bc5a-4e9c-9eba-950b79fb63f2",
   "metadata": {},
   "outputs": [],
   "source": [
    "map_cut_data_B = [hp.gnomview(data_B_map, rot=[lon[i], lat[i]], xsize = xsize, reso = reso, return_projected_map = True, no_plot = True) for i in range(len(coords))]"
   ]
  },
  {
   "cell_type": "code",
   "execution_count": 33,
   "id": "79360fc4-4d96-48da-a12e-4d35ab0d14f7",
   "metadata": {},
   "outputs": [],
   "source": [
    "map_cut_data_E = np.array(map_cut_data_E)\n",
    "map_cut_data_B = np.array(map_cut_data_B)"
   ]
  },
  {
   "cell_type": "code",
   "execution_count": 34,
   "id": "17dce02c-802f-464c-972b-02397b4f7d93",
   "metadata": {},
   "outputs": [],
   "source": [
    "map_cut_data_E = reshape(map_cut_data_E)\n",
    "map_cut_data_B = reshape(map_cut_data_B)"
   ]
  },
  {
   "cell_type": "code",
   "execution_count": 35,
   "id": "e0bdeec7-375b-4435-957d-20cd24775249",
   "metadata": {},
   "outputs": [],
   "source": [
    "map_cut_data_EB = np.concatenate((map_cut_data_E, map_cut_data_B), axis = -1)"
   ]
  },
  {
   "cell_type": "code",
   "execution_count": 36,
   "id": "68cb5fd5-8eb3-42b8-b643-4ad028c5ae05",
   "metadata": {},
   "outputs": [],
   "source": [
    "# Split data into 2 parts: 20% for validation (test_size), 80% for training\n",
    "data_train_EB, data_val_EB = train_test_split(map_cut_data_EB, test_size=0.2, random_state=42)"
   ]
  },
  {
   "cell_type": "code",
   "execution_count": 37,
   "id": "d0d84571-ab04-4e7d-a966-04cc3f17c79e",
   "metadata": {},
   "outputs": [
    {
     "name": "stdout",
     "output_type": "stream",
     "text": [
      "Stored 'data_train_EB' (ndarray)\n",
      "Stored 'data_val_EB' (ndarray)\n"
     ]
    }
   ],
   "source": [
    "%store data_train_EB\n",
    "%store data_val_EB"
   ]
  },
  {
   "cell_type": "code",
   "execution_count": 38,
   "id": "79803f2b-f9e5-402a-b3b7-2f57a2679025",
   "metadata": {},
   "outputs": [],
   "source": [
    "# For E:\n",
    "data_train_E, data_val_E = train_test_split(map_cut_data_E, test_size=0.2, random_state=42)"
   ]
  },
  {
   "cell_type": "code",
   "execution_count": 39,
   "id": "ea3a63ae-db36-44c2-9c45-1774fb56b1ce",
   "metadata": {},
   "outputs": [],
   "source": [
    "# For B:\n",
    "data_train_B, data_val_B = train_test_split(map_cut_data_B, test_size=0.2, random_state=42)"
   ]
  },
  {
   "cell_type": "code",
   "execution_count": 40,
   "id": "e7125fd2-755a-4b03-b6a9-12e6b06d6f83",
   "metadata": {},
   "outputs": [
    {
     "name": "stdout",
     "output_type": "stream",
     "text": [
      "Stored 'data_train_E' (ndarray)\n",
      "Stored 'data_val_E' (ndarray)\n"
     ]
    }
   ],
   "source": [
    "%store data_train_E\n",
    "%store data_val_E"
   ]
  },
  {
   "cell_type": "code",
   "execution_count": 41,
   "id": "da80d526-0633-4c5b-b9e1-fc81241bccf4",
   "metadata": {},
   "outputs": [
    {
     "name": "stdout",
     "output_type": "stream",
     "text": [
      "Stored 'data_train_B' (ndarray)\n",
      "Stored 'data_val_B' (ndarray)\n"
     ]
    }
   ],
   "source": [
    "%store data_train_B\n",
    "%store data_val_B"
   ]
  },
  {
   "cell_type": "markdown",
   "id": "faa9e112-a7f9-4885-b4f6-ec073459c0a1",
   "metadata": {},
   "source": [
    "#### **Label vs map visualisation**"
   ]
  },
  {
   "cell_type": "code",
   "execution_count": 42,
   "id": "c3bdd8e3-c03f-4695-a929-3bd1ef4b0cc9",
   "metadata": {
    "tags": []
   },
   "outputs": [
    {
     "name": "stderr",
     "output_type": "stream",
     "text": [
      "/tmp/ipykernel_841210/644330280.py:13: UserWarning: This figure includes Axes that are not compatible with tight_layout, so results might be incorrect.\n",
      "  plt.tight_layout()\n"
     ]
    },
    {
     "data": {
      "image/png": "[encoded data removed]",
      "text/plain": [
       "<Figure size 1200x600 with 3 Axes>"
      ]
     },
     "metadata": {},
     "output_type": "display_data"
    }
   ],
   "source": [
    "fig, axs = plt.subplots(1, 2, figsize=(12, 6), gridspec_kw={'width_ratios': [1, 0.92], 'wspace': 0.8})\n",
    "cmap = 'viridis'\n",
    "\n",
    "im1 = axs[0].imshow(map_cut_data_P[67], cmap=cmap, aspect='equal') # representative patch\n",
    "axs[0].set_title('Input in P Representation')\n",
    "\n",
    "cbar1 = plt.colorbar(im1, ax=axs[0], fraction=0.046, pad=0.04)\n",
    "cbar1.set_label('Temperature (K)', labelpad=15)  \n",
    "\n",
    "im2 = axs[1].imshow(map_cut_labels[67], cmap=cmap, aspect='equal')\n",
    "axs[1].set_title('Label')\n",
    "\n",
    "plt.tight_layout()\n",
    "\n",
    "fig.savefig('labelvsmap.png', dpi=100)  \n",
    "\n",
    "\n",
    "plt.show()\n"
   ]
  },
  {
   "cell_type": "markdown",
   "id": "609cc1d5-7e17-4276-89c1-fcecf5130d58",
   "metadata": {},
   "source": [
    "#### **Number of labels per patch histogram**"
   ]
  },
  {
   "cell_type": "code",
   "execution_count": 43,
   "id": "7fd7768b-aa4d-4fda-91fc-091ef26e5f2d",
   "metadata": {},
   "outputs": [
    {
     "name": "stdout",
     "output_type": "stream",
     "text": [
      "Number of patches with 0 labels: 778\n",
      "Number of patches with 1 label: 1102\n",
      "Number of patches with 2 labels: 808\n",
      "Number of patches with 3 labels: 347\n",
      "Number of patches with 4 or more labels: 151\n"
     ]
    }
   ],
   "source": [
    "from skimage.measure import label, regionprops\n",
    "\n",
    "label_counts = {\n",
    "    '0 labels': 0,\n",
    "    '1 label': 0,\n",
    "    '2 labels': 0,\n",
    "    '3 labels': 0,\n",
    "    '4 or more labels': 0\n",
    "}\n",
    "\n",
    "for patch_labels in map_cut_labels:\n",
    "    labeled_image = label(patch_labels.squeeze(), connectivity=2, return_num=True)  # Label connected components\n",
    "    num_labels = labeled_image[1]\n",
    "\n",
    "    if num_labels == 0:\n",
    "        label_counts['0 labels'] += 1\n",
    "    elif num_labels == 1:\n",
    "        label_counts['1 label'] += 1\n",
    "    elif num_labels == 2:\n",
    "        label_counts['2 labels'] += 1\n",
    "    elif num_labels == 3:\n",
    "        label_counts['3 labels'] += 1\n",
    "    else:\n",
    "        label_counts['4 or more labels'] += 1\n",
    "\n",
    "for label_type, count in label_counts.items():\n",
    "    print(f\"Number of patches with {label_type}: {count}\")\n"
   ]
  },
  {
   "cell_type": "code",
   "execution_count": 44,
   "id": "1f2b7e63-29fc-41b6-b38a-d8e04841bf84",
   "metadata": {},
   "outputs": [
    {
     "data": {
      "image/png": "[encoded data removed]",
      "text/plain": [
       "<Figure size 800x600 with 1 Axes>"
      ]
     },
     "metadata": {},
     "output_type": "display_data"
    }
   ],
   "source": [
    "labels = ['0 labels', '1 label', '2 labels', '3 labels', '4 or more labels']\n",
    "counts = [906, 1201, 683, 276, 120]\n",
    "\n",
    "plt.figure(figsize=(8, 6))\n",
    "plt.bar(labels, counts, color='skyblue')\n",
    "plt.ylabel('Number of Patches')\n",
    "plt.title('Histogram of Labels per Patch')\n",
    "plt.xticks(rotation=45)\n",
    "\n",
    "# Display the plot\n",
    "plt.tight_layout()\n",
    "plt.savefig(\"labelsperpatch.jpg\")\n",
    "plt.show()\n"
   ]
  },
  {
   "cell_type": "code",
   "execution_count": null,
   "id": "bb799b1c-e3ef-40ca-b3e0-5ee9764af6a3",
   "metadata": {},
   "outputs": [],
   "source": []
  }
 ],
 "metadata": {
  "kernelspec": {
   "display_name": "Python 3 (ipykernel)",
   "language": "python",
   "name": "python3"
  },
  "language_info": {
   "codemirror_mode": {
    "name": "ipython",
    "version": 3
   },
   "file_extension": ".py",
   "mimetype": "text/x-python",
   "name": "python",
   "nbconvert_exporter": "python",
   "pygments_lexer": "ipython3",
   "version": "3.10.6"
  }
 },
 "nbformat": 4,
 "nbformat_minor": 5
}
