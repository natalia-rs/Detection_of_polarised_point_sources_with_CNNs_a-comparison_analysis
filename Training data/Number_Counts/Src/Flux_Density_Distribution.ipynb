{
 "cells": [
  {
   "cell_type": "markdown",
   "id": "24e4be2c-b5fd-4d9d-9d27-0401266cd276",
   "metadata": {},
   "source": [
    "### **Generate Point Sources with the given algorithm**"
   ]
  },
  {
   "cell_type": "markdown",
   "id": "e6b1c174-32b8-43d1-b81f-bd679a2d6fa9",
   "metadata": {},
   "source": [
    "#### **Parts:**\n",
    "- Number of PS\n",
    "- Restrict S range and interpolate to get more data\n",
    "- Rejection sampling method \n",
    "- CDF method\n",
    "- Plotting and comparison"
   ]
  },
  {
   "cell_type": "code",
   "execution_count": 1,
   "id": "b5535cd3-138a-4a1e-a092-2c319158a2fb",
   "metadata": {},
   "outputs": [],
   "source": [
    "from diff_number_counts import number_above, dNdS_total\n",
    "from scipy.integrate import cumtrapz\n",
    "from scipy.integrate import quad\n",
    "from scipy.interpolate import UnivariateSpline\n",
    "import numpy as np\n",
    "import matplotlib.pyplot as plt"
   ]
  },
  {
   "cell_type": "markdown",
   "id": "d62d1bb8-aa56-4150-8a5f-22c1a3c81963",
   "metadata": {},
   "source": [
    "#### **1. Number of PS**"
   ]
  },
  {
   "cell_type": "code",
   "execution_count": 2,
   "id": "526ce337-9986-4d38-9655-8067ae4d85db",
   "metadata": {},
   "outputs": [
    {
     "name": "stdout",
     "output_type": "stream",
     "text": [
      "The total number of point sources is 3152091\n"
     ]
    }
   ],
   "source": [
    "# Limit on S [Jy]\n",
    "S_min = 1e-03\n",
    "S_max = 10\n",
    "nu = 27 # Simons Observatory. Units in GHz\n",
    "number_ps = number_above(S_min, S_max, nu)\n",
    "number_ps = int(number_ps.value)\n",
    "print(f'The total number of point sources is {number_ps}')"
   ]
  },
  {
   "cell_type": "markdown",
   "id": "a45ca736-c277-42ee-b321-4a29f232d80f",
   "metadata": {},
   "source": [
    "##### ***Small comment***"
   ]
  },
  {
   "cell_type": "code",
   "execution_count": 3,
   "id": "1cbc45a3-6f29-4238-9044-463ee9bbf097",
   "metadata": {},
   "outputs": [
    {
     "name": "stdout",
     "output_type": "stream",
     "text": [
      "The total number of point sources for Smax = 12 is 401084.16854798043 1 / rad2 whereas the number of point sources for Smax = 10 is 3152091.\n",
      "The wider the S range the less number of point sources?\n"
     ]
    }
   ],
   "source": [
    "# why if Smax is larger, the number of PS decrease? \n",
    "# Ex:\n",
    "print(f'The total number of point sources for Smax = 12 is {number_above(10e-03,12,nu,)} whereas the number of point sources for Smax = 10 is {number_ps}.'\n",
    "      f'\\nThe wider the S range the less number of point sources?')\n",
    "\n",
    "# Patricia: En principio aumentar Smax debería aumentarte el número de fuentes, nunca disminuirlo. No sé qué puede estar pasando. \n",
    "# Se me ocurre que pueda ser un fallo de integración numérica. Si es una integral tipo simpson o trapz, puede que al cambiar Smax estés cambiando los \n",
    "# intervalos de valores x que internamente usa para evaluar e integrar la función."
   ]
  },
  {
   "cell_type": "markdown",
   "id": "6148a62d-12fc-40f9-8fdd-d7544ac88394",
   "metadata": {},
   "source": [
    "#### **2. Restrict S range and interpolate to get more data**"
   ]
  },
  {
   "cell_type": "code",
   "execution_count": 4,
   "id": "5fee6599-9da7-4529-9a03-90ed7ec0f49b",
   "metadata": {},
   "outputs": [],
   "source": [
    "# Get dNdS and S in the entire range\n",
    "dNdS_val = dNdS_total(nu) \n",
    "S_orig = dNdS_val[0] \n",
    "dNdS_orig = dNdS_val[1] * 4 * np.pi # dNdS is the number of PS per steradian between s and s+ds. We multiply by 4π to obtain the number of total PS in s and s+ds\n",
    "\n",
    "# Restrict dNdS and S to the desired range\n",
    "mask = (S_orig >= S_min) & (S_orig <= S_max)\n",
    "S_restricted = S_orig[mask]\n",
    "dNdS_restricted = dNdS_orig[mask]"
   ]
  },
  {
   "cell_type": "markdown",
   "id": "e27df192-e773-48d5-bdc0-d3bde6321933",
   "metadata": {},
   "source": [
    "##### *Previously, we were using the entire range of values in dNdS_orig to generate the random numbers for the flux values, i.e., [1e-5, 1e2] Jy. This included values outside the desired range of [1e-03, 10] Jy resulting in some generated flux values that were outside the desired range. To solve this, we can first restrict dNdS_orig to the desired range.*"
   ]
  },
  {
   "cell_type": "code",
   "execution_count": 5,
   "id": "c5d2b48f-28ae-453c-89f2-a775ddca28f7",
   "metadata": {},
   "outputs": [],
   "source": [
    "# Interpolate to get more data\n",
    "# Convert to log\n",
    "S_restricted_log = np.log10(S_restricted)\n",
    "dNdS_restricted_log = np.log10(dNdS_restricted)\n",
    "\n",
    "# Define the new range of S_restricted_log values you want\n",
    "new_S_restricted_log = np.arange(np.min(S_restricted_log), np.max(S_restricted_log), 0.01)\n",
    "\n",
    "# Interpolate the dNdS_restricted_log values onto the new S_restricted_log values\n",
    "spl = UnivariateSpline(S_restricted_log, dNdS_restricted_log, s=0)\n",
    "new_dNdS_restricted_log = spl(new_S_restricted_log)\n",
    "\n",
    "# Take out the log\n",
    "S_restricted = 10**new_S_restricted_log\n",
    "dNdS_restricted = 10**new_dNdS_restricted_log"
   ]
  },
  {
   "cell_type": "markdown",
   "id": "3540cb43-320a-44d3-955a-f620a2d57922",
   "metadata": {},
   "source": [
    "#### **3. Rejection sampling method (too slow)**"
   ]
  },
  {
   "cell_type": "markdown",
   "id": "5c9cb85a-84c8-4323-b117-88020f1fbf1f",
   "metadata": {},
   "source": [
    "```\n",
    "x_min, x_max = np.min(S_restricted), np.max(S_restricted)\n",
    "y_min, y_max = np.min(dNdS_restricted), np.max(dNdS_restricted)\n",
    "\n",
    "curve = UnivariateSpline(S_restricted, dNdS_restricted, s=0)\n",
    "\n",
    "# Set batch size\n",
    "batch_size = 10000\n",
    "\n",
    "# Rejection sampling\n",
    "x_below = []\n",
    "y_below = []\n",
    "while len(x_below) < number_ps:\n",
    "    # Generate batch of random samples\n",
    "    x_batch = np.random.uniform(x_min, x_max, size=batch_size)\n",
    "    y_batch = np.random.uniform(y_min, y_max, size=batch_size)\n",
    "    \n",
    "    # Evaluate curve on batch of samples\n",
    "    curve_batch = curve(x_batch)\n",
    "    \n",
    "    # Find indices of samples below curve\n",
    "    idx_below = np.where(y_batch <= curve_batch)[0]\n",
    "    \n",
    "    # Append samples below curve to x_below and y_below\n",
    "    x_below.extend(x_batch[idx_below])\n",
    "    y_below.extend(y_batch[idx_below])\n",
    "```"
   ]
  },
  {
   "cell_type": "markdown",
   "id": "c4348c5d-1621-4f24-8390-6de35a2978b8",
   "metadata": {},
   "source": [
    "#### **4. CDF method**"
   ]
  },
  {
   "cell_type": "markdown",
   "id": "e3042425-f1e7-483f-906e-9bb6aec6d9df",
   "metadata": {},
   "source": [
    "The cumulative distribution function (CDF) of a real-valued random variable X evaluated at x, is the probability that X will take a value less than or equal to x _(Wikipedia)_.\n",
    "\\begin{equation}\n",
    "F_X(x)=\\mathrm{P}(X \\leq x)\n",
    "\\end{equation}\n",
    "This gives us a function that maps S values to probabilities, which we can use to generate random flux densities from the restricted dNdS distribution."
   ]
  },
  {
   "cell_type": "code",
   "execution_count": 6,
   "id": "6c0a08bd-afd7-42c3-90ed-c8f489e047e4",
   "metadata": {},
   "outputs": [],
   "source": [
    "dNdS_cum = cumtrapz(dNdS_restricted, S_restricted, initial=0) # CDF. Initial value of the cumulative integral set as 0\n",
    "norm = dNdS_cum[-1]\n",
    "dNdS_norm = dNdS_restricted/norm\n",
    "dNdS_norm_cum = cumtrapz(dNdS_norm, S_restricted, initial=0)\n",
    "\n",
    "# Generate random flux values \n",
    "f = UnivariateSpline(dNdS_norm_cum, S_restricted, s=0) # Creates a function f that maps from a probability value p to the corresponding flux density value S such that f(p) = S (inverse CDF)\n",
    "S_new = f(np.random.uniform(size=(number_ps))) # Map each probability to the corresponding S\n",
    "S_new = np.clip(S_new, S_min, S_max) # interp1d is not limited to generate S_new in the range (1e-03, 10). It can generate S_new values outside this range as well."
   ]
  },
  {
   "cell_type": "markdown",
   "id": "fa9450a7-e036-4667-be7e-a26657cd936b",
   "metadata": {},
   "source": [
    "#### **5. Plotting and comparison**"
   ]
  },
  {
   "cell_type": "code",
   "execution_count": 7,
   "id": "a72ac52a-f535-4068-8dcd-a9166c0ff88b",
   "metadata": {},
   "outputs": [
    {
     "data": {
      "image/png": "[encoded data removed]",
      "text/plain": [
       "<Figure size 900x600 with 1 Axes>"
      ]
     },
     "metadata": {},
     "output_type": "display_data"
    }
   ],
   "source": [
    "bins = np.logspace(np.log10(np.min(S_new)), np.log10(np.max(S_new)), num=100)\n",
    "fig, ax = plt.subplots(figsize=(9, 6))\n",
    "\n",
    "ax.hist(S_new, bins=bins, density=True, label='Generated Samples', alpha=0.7, color='darkcyan')\n",
    "\n",
    "ax.set_xscale('log')\n",
    "ax.set_yscale('log')\n",
    "\n",
    "integral = np.trapz(dNdS_restricted, S_restricted)\n",
    "ax.plot(S_restricted, dNdS_restricted/integral, label='Original PDF', color='red')\n",
    "\n",
    "ax.set_xlabel('Flux Density [Jy]', fontsize=14)\n",
    "ax.set_ylabel('Probability Density', fontsize = 14)\n",
    "\n",
    "ax.legend(fontsize = 12)\n",
    "plt.xticks(fontsize=12)\n",
    "plt.yticks(fontsize=12)\n",
    "\n",
    "plt.savefig('Flux_Density_Distribution.jpg', dpi = 150)\n",
    "\n",
    "plt.show()\n"
   ]
  },
  {
   "cell_type": "code",
   "execution_count": 8,
   "id": "72a5360e-d045-42bf-8b85-e0ede85ea34b",
   "metadata": {},
   "outputs": [
    {
     "name": "stdout",
     "output_type": "stream",
     "text": [
      "Stored 'S_new' (ndarray)\n"
     ]
    }
   ],
   "source": [
    "%store S_new\n",
    "del S_new # This will DELETE the data from the memory of the first notebook"
   ]
  },
  {
   "cell_type": "code",
   "execution_count": 9,
   "id": "105c738b-54e1-4c7d-881e-c372a054f439",
   "metadata": {},
   "outputs": [
    {
     "name": "stdout",
     "output_type": "stream",
     "text": [
      "Stored 'number_ps' (int)\n"
     ]
    }
   ],
   "source": [
    "%store number_ps\n",
    "del number_ps "
   ]
  },
  {
   "cell_type": "code",
   "execution_count": 10,
   "id": "74f4feeb-9595-40ff-a334-f62d361180a3",
   "metadata": {},
   "outputs": [
    {
     "name": "stdout",
     "output_type": "stream",
     "text": [
      "Stored 'nu' (int)\n"
     ]
    }
   ],
   "source": [
    "%store nu\n",
    "del nu "
   ]
  },
  {
   "cell_type": "code",
   "execution_count": null,
   "id": "e83b1685-23dc-46a4-9ab0-1071eb7a1641",
   "metadata": {},
   "outputs": [],
   "source": []
  }
 ],
 "metadata": {
  "kernelspec": {
   "display_name": "Python 3 (ipykernel)",
   "language": "python",
   "name": "python3"
  },
  "language_info": {
   "codemirror_mode": {
    "name": "ipython",
    "version": 3
   },
   "file_extension": ".py",
   "mimetype": "text/x-python",
   "name": "python",
   "nbconvert_exporter": "python",
   "pygments_lexer": "ipython3",
   "version": "3.10.6"
  }
 },
 "nbformat": 4,
 "nbformat_minor": 5
}
