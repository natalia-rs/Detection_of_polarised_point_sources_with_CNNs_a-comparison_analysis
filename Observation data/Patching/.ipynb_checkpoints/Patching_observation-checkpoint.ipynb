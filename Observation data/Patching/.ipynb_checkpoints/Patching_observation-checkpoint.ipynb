{
 "cells": [
  {
   "cell_type": "markdown",
   "id": "96d7fc43-d9eb-401d-8da5-d9855307aeec",
   "metadata": {},
   "source": [
    "#### **Observation map for the CNN**"
   ]
  },
  {
   "cell_type": "code",
   "execution_count": 1,
   "id": "b6aa7dfe-a607-4824-9dad-06d42d6826a9",
   "metadata": {},
   "outputs": [],
   "source": [
    "import numpy as np\n",
    "import pandas as pd\n",
    "import healpy as hp\n",
    "import matplotlib.pyplot as plt\n",
    "from sklearn.model_selection import train_test_split"
   ]
  },
  {
   "cell_type": "code",
   "execution_count": 2,
   "id": "b5435ee3-76cb-43ec-a9f6-c43fde1970b6",
   "metadata": {},
   "outputs": [],
   "source": [
    "%store -r nside\n",
    "%store -r fwhm"
   ]
  },
  {
   "cell_type": "code",
   "execution_count": 20,
   "id": "69af2a8e-c5c7-46ee-a1d8-a0133ba1ffa8",
   "metadata": {},
   "outputs": [],
   "source": [
    "# Point source map\n",
    "%store -r ps_map_Q_obs\n",
    "%store -r ps_map_U_obs"
   ]
  },
  {
   "cell_type": "code",
   "execution_count": 4,
   "id": "f0556ecc-41d6-43bb-b171-34ec3c5ca9d2",
   "metadata": {},
   "outputs": [],
   "source": [
    "# Noise map\n",
    "%store -r noise_Q_obs\n",
    "%store -r noise_U_obs"
   ]
  },
  {
   "cell_type": "code",
   "execution_count": 5,
   "id": "9f366e99-1c96-4a53-a4dc-0af3472e63e7",
   "metadata": {},
   "outputs": [],
   "source": [
    "# Power spectrum of the simulated CMB map\n",
    "%store -r cl_TT_simulated_obs\n",
    "%store -r cl_EE_simulated_obs\n",
    "%store -r cl_BB_simulated_obs\n",
    "%store -r cl_TE_simulated_obs"
   ]
  },
  {
   "cell_type": "code",
   "execution_count": 21,
   "id": "9ad7fe10-e891-4c9e-bd28-dbfa551d93bd",
   "metadata": {},
   "outputs": [],
   "source": [
    "ps_map_Q = ps_map_Q_obs\n",
    "ps_map_U = ps_map_U_obs\n",
    "noise_Q = noise_Q_obs\n",
    "noise_U = noise_U_obs\n",
    "cl_TT_simulated = cl_TT_simulated_obs\n",
    "cl_EE_simulated = cl_EE_simulated_obs\n",
    "cl_BB_simulated = cl_BB_simulated_obs\n",
    "cl_TE_simulated = cl_TE_simulated_obs"
   ]
  },
  {
   "cell_type": "code",
   "execution_count": 7,
   "id": "06ee307f-e22e-44fb-9bd4-cf39c6048589",
   "metadata": {},
   "outputs": [],
   "source": [
    "# Create CMB maps from the cls\n",
    "cmb_simulated_cls = [cl_TT_simulated, cl_EE_simulated, cl_BB_simulated, cl_TE_simulated]\n",
    "cmb_simulated_maps = hp.synfast(cmb_simulated_cls, nside, pol=True, fwhm=fwhm, new=True) # hp.smoothing? although fwhm already fixed\n",
    "cmb_Q = cmb_simulated_maps[1]\n",
    "cmb_U = cmb_simulated_maps[2]"
   ]
  },
  {
   "cell_type": "code",
   "execution_count": 22,
   "id": "3ab064bb-2870-41c4-a2b0-c61b6f637e2b",
   "metadata": {},
   "outputs": [],
   "source": [
    "# Data input map \n",
    "data_Q_map = cmb_Q + ps_map_Q + noise_Q\n",
    "data_U_map = cmb_U + ps_map_U + noise_U\n",
    "data_P_map = np.sqrt(data_Q_map**2 + data_U_map**2)"
   ]
  },
  {
   "cell_type": "code",
   "execution_count": 23,
   "id": "8deec27e-c86e-4cf4-beff-f26d5a8d4048",
   "metadata": {},
   "outputs": [],
   "source": [
    "# Centers of patches for 3.63º x 3.63º (https://arxiv.org/abs/1909.04701)\n",
    "df = pd.read_csv(\"lon_lat13deg2.txt\", header=None, delim_whitespace=True, names=[\"lon\", \"lat\"]) \n",
    "coords = np.array(df)\n",
    "lon = coords[:,0]\n",
    "lat = coords[:,1]"
   ]
  },
  {
   "cell_type": "code",
   "execution_count": 24,
   "id": "16524944-aad5-4149-8dc5-5460c0a6bf37",
   "metadata": {},
   "outputs": [],
   "source": [
    "# Map division with hp.gnomview \n",
    "reso = hp.nside2resol(nside, arcmin=True) # 2D map same pixel resolution as the 3D map of the sphere so that after the projection it is not very deformed\n",
    "xsize = 64"
   ]
  },
  {
   "cell_type": "code",
   "execution_count": 28,
   "id": "d3034122-3df0-4027-9df5-76aaba1cf8fe",
   "metadata": {},
   "outputs": [],
   "source": [
    "# For the data\n",
    "map_cut_data_P = [hp.gnomview(data_P_map, rot=[lon[i], lat[i]], xsize = xsize, reso = reso, return_projected_map = True, no_plot = True) for i in range(len(coords))]"
   ]
  },
  {
   "cell_type": "code",
   "execution_count": 26,
   "id": "bca56c7d-5296-41bb-b821-3ae0643229ec",
   "metadata": {},
   "outputs": [],
   "source": [
    "map_cut_data_Q = [hp.gnomview(data_Q_map, rot=[lon[i], lat[i]], xsize = xsize, reso = reso, return_projected_map = True, no_plot = True) for i in range(len(coords))]"
   ]
  },
  {
   "cell_type": "code",
   "execution_count": 27,
   "id": "97d0d8f1-ec27-454a-acd8-b9aa359dabb5",
   "metadata": {},
   "outputs": [],
   "source": [
    "map_cut_data_U = [hp.gnomview(data_U_map, rot=[lon[i], lat[i]], xsize = xsize, reso = reso, return_projected_map = True, no_plot = True) for i in range(len(coords))]"
   ]
  },
  {
   "cell_type": "code",
   "execution_count": 29,
   "id": "ca48f10b-b55c-4b06-9aa3-d91512b2dc81",
   "metadata": {},
   "outputs": [],
   "source": [
    "# Convert to array to then reshape\n",
    "map_cut_data_P = np.array(map_cut_data_P)\n",
    "map_cut_data_Q = np.array(map_cut_data_Q)\n",
    "map_cut_data_U = np.array(map_cut_data_U)"
   ]
  },
  {
   "cell_type": "code",
   "execution_count": 30,
   "id": "4f9b3946-a8e0-4302-83d7-0967f9028a3d",
   "metadata": {},
   "outputs": [],
   "source": [
    "# Reshape data and labels\n",
    "def reshape(array):\n",
    "    N = len(array)\n",
    "    return np.reshape(array, (N, xsize, xsize, 1))\n",
    "map_cut_data_P_obs = reshape(map_cut_data_P)\n",
    "map_cut_data_Q = reshape(map_cut_data_Q)\n",
    "map_cut_data_U = reshape(map_cut_data_U)"
   ]
  },
  {
   "cell_type": "code",
   "execution_count": 31,
   "id": "5cb4281d-add7-447f-bd5a-29d90cbc3c78",
   "metadata": {},
   "outputs": [],
   "source": [
    "map_cut_data_QU_obs = np.concatenate((map_cut_data_Q, map_cut_data_U), axis = -1)"
   ]
  },
  {
   "cell_type": "code",
   "execution_count": 32,
   "id": "77a038f0-a809-43b0-91a9-b2a296ead75d",
   "metadata": {},
   "outputs": [
    {
     "name": "stdout",
     "output_type": "stream",
     "text": [
      "Stored 'map_cut_data_QU_obs' (ndarray)\n",
      "Stored 'map_cut_data_P_obs' (ndarray)\n"
     ]
    }
   ],
   "source": [
    "%store map_cut_data_QU_obs\n",
    "%store map_cut_data_P_obs"
   ]
  },
  {
   "cell_type": "markdown",
   "id": "5ceb8b06-1124-42ba-875d-261ef341bf0d",
   "metadata": {},
   "source": [
    "#### **EB**"
   ]
  },
  {
   "cell_type": "code",
   "execution_count": 33,
   "id": "a8353e9a-c779-454d-ad26-3a4437428fd2",
   "metadata": {},
   "outputs": [],
   "source": [
    "cmb_E = hp.synfast(cl_EE_simulated_obs, nside = nside, pol = False, fwhm = fwhm)\n",
    "cmb_B = hp.synfast(cl_BB_simulated_obs, nside = nside, pol = False, fwhm = fwhm)"
   ]
  },
  {
   "cell_type": "code",
   "execution_count": 34,
   "id": "a58763d7-5615-49ad-bbfb-6536c6c710e7",
   "metadata": {},
   "outputs": [],
   "source": [
    "# Point sources:\n",
    "%store -r E_obs\n",
    "%store -r B_obs"
   ]
  },
  {
   "cell_type": "code",
   "execution_count": 35,
   "id": "4196e2d7-def2-4b65-9ab1-eedf859e5598",
   "metadata": {},
   "outputs": [],
   "source": [
    "%store -r cl_noise_EE_simulated_obs\n",
    "%store -r cl_noise_BB_simulated_obs"
   ]
  },
  {
   "cell_type": "code",
   "execution_count": 36,
   "id": "881c7449-760e-42e3-9b13-43c0dd48a9c8",
   "metadata": {},
   "outputs": [],
   "source": [
    "noise_E = hp.synfast(cl_noise_EE_simulated_obs, nside = nside, pol = False, fwhm = fwhm)\n",
    "noise_B = hp.synfast(cl_noise_BB_simulated_obs, nside = nside, pol = False, fwhm = fwhm)"
   ]
  },
  {
   "cell_type": "code",
   "execution_count": 38,
   "id": "b93450a8-515b-473c-91f0-be39f2f6c7e0",
   "metadata": {},
   "outputs": [],
   "source": [
    "data_E_map = cmb_E + E_obs + noise_E\n",
    "data_B_map = cmb_B + B_obs + noise_B"
   ]
  },
  {
   "cell_type": "code",
   "execution_count": 39,
   "id": "072457a9-272a-4655-9d42-36091fbbf94f",
   "metadata": {},
   "outputs": [],
   "source": [
    "map_cut_data_E_obs = [hp.gnomview(data_E_map, rot=[lon[i], lat[i]], xsize = xsize, reso = reso, return_projected_map = True, no_plot = True) for i in range(len(coords))]"
   ]
  },
  {
   "cell_type": "code",
   "execution_count": 40,
   "id": "52ffcc30-4dac-4230-843c-92e85891b2e1",
   "metadata": {},
   "outputs": [],
   "source": [
    "map_cut_data_B_obs = [hp.gnomview(data_B_map, rot=[lon[i], lat[i]], xsize = xsize, reso = reso, return_projected_map = True, no_plot = True) for i in range(len(coords))]"
   ]
  },
  {
   "cell_type": "code",
   "execution_count": 41,
   "id": "5bd52e37-deb7-41d1-b315-d087c9542d77",
   "metadata": {},
   "outputs": [],
   "source": [
    "map_cut_data_E_obs = np.array(map_cut_data_E_obs)\n",
    "map_cut_data_B_obs = np.array(map_cut_data_B_obs)"
   ]
  },
  {
   "cell_type": "code",
   "execution_count": 42,
   "id": "b474ecb9-9936-467e-9f9c-84c81d55b063",
   "metadata": {},
   "outputs": [],
   "source": [
    "map_cut_data_E_obs = reshape(map_cut_data_E_obs)\n",
    "map_cut_data_B_obs = reshape(map_cut_data_B_obs)"
   ]
  },
  {
   "cell_type": "code",
   "execution_count": 44,
   "id": "3ef4d20c-e26d-4e8e-8e13-2b2d1365c3f8",
   "metadata": {},
   "outputs": [],
   "source": [
    "map_cut_data_EB_obs = np.concatenate((map_cut_data_E_obs, map_cut_data_B_obs), axis = -1)"
   ]
  },
  {
   "cell_type": "code",
   "execution_count": 45,
   "id": "6bb6ab73-29ba-40e3-a0ec-c3f810cfa353",
   "metadata": {},
   "outputs": [
    {
     "name": "stdout",
     "output_type": "stream",
     "text": [
      "Stored 'map_cut_data_EB_obs' (ndarray)\n"
     ]
    }
   ],
   "source": [
    "%store map_cut_data_EB_obs"
   ]
  },
  {
   "cell_type": "code",
   "execution_count": 46,
   "id": "79a91c55-a371-437d-bd4b-5558c327bf71",
   "metadata": {},
   "outputs": [
    {
     "name": "stdout",
     "output_type": "stream",
     "text": [
      "Stored 'map_cut_data_E_obs' (ndarray)\n",
      "Stored 'map_cut_data_B_obs' (ndarray)\n"
     ]
    }
   ],
   "source": [
    "%store map_cut_data_E_obs\n",
    "%store map_cut_data_B_obs"
   ]
  },
  {
   "cell_type": "code",
   "execution_count": null,
   "id": "4d9738ee-4365-4040-a2df-04fb92678168",
   "metadata": {},
   "outputs": [],
   "source": []
  }
 ],
 "metadata": {
  "kernelspec": {
   "display_name": "Python 3 (ipykernel)",
   "language": "python",
   "name": "python3"
  },
  "language_info": {
   "codemirror_mode": {
    "name": "ipython",
    "version": 3
   },
   "file_extension": ".py",
   "mimetype": "text/x-python",
   "name": "python",
   "nbconvert_exporter": "python",
   "pygments_lexer": "ipython3",
   "version": "3.10.6"
  }
 },
 "nbformat": 4,
 "nbformat_minor": 5
}
