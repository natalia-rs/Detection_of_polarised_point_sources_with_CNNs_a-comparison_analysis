{
 "cells": [
  {
   "cell_type": "markdown",
   "id": "0dedbfc6-eef6-4d98-b40f-170a5c1593f3",
   "metadata": {},
   "source": [
    "#### **Parts:**\n",
    "1. Theoretical and simulated spectra: TT, EE, BB, TE\n",
    "2. Simulate point sources \n",
    "    1. Maps for T, Q, U, P\n",
    "    2. Maps for E, B\n",
    "3. Add white noise\n",
    "4. Table Observation"
   ]
  },
  {
   "cell_type": "code",
   "execution_count": 1,
   "id": "9c4f4537-9c11-40a3-97cc-295cbd3cb8cc",
   "metadata": {},
   "outputs": [],
   "source": [
    "import pandas as pd\n",
    "import healpy as hp\n",
    "import numpy as np\n",
    "import matplotlib.pyplot as plt\n",
    "import random\n",
    "import os\n",
    "import wget"
   ]
  },
  {
   "cell_type": "code",
   "execution_count": 2,
   "id": "ef6387e2-b3b4-4cd9-aced-f06cc5fb4f0c",
   "metadata": {},
   "outputs": [],
   "source": [
    "%store -r nside\n",
    "%store -r fwhm\n",
    "%store -r l_pix\n",
    "%store -r npix"
   ]
  },
  {
   "cell_type": "markdown",
   "id": "31dbccdd-3157-4332-bf6c-f2758c817adf",
   "metadata": {},
   "source": [
    "#### **1. Theoretical and simulated spectra: TT, EE, BB, TE**"
   ]
  },
  {
   "cell_type": "code",
   "execution_count": 3,
   "id": "08cf0e8f-5145-4e5b-9911-264455b35820",
   "metadata": {},
   "outputs": [
    {
     "name": "stdout",
     "output_type": "stream",
     "text": [
      "File already exists\n"
     ]
    }
   ],
   "source": [
    "# We download the theoretical power spectrum Planck \n",
    "url = 'https://irsa.ipac.caltech.edu/data/Planck/release_3/ancillary-data/cosmoparams/COM_PowerSpect_CMB-base-plikHM-TTTEEE-lowl-lowE-lensing-minimum-theory_R3.01.txt'\n",
    "filename = 'Power_spectrum.txt'\n",
    "\n",
    "if not os.path.exists(filename):\n",
    "    wget.download(url, filename)\n",
    "else:\n",
    "    print(\"File already exists\")"
   ]
  },
  {
   "cell_type": "code",
   "execution_count": 4,
   "id": "666910e8-d79d-49bc-bb9a-7555fb57cabb",
   "metadata": {},
   "outputs": [],
   "source": [
    "# We read the data\n",
    "data = pd.read_fwf(filename, index_col=None, infer_nrows=2508)\n",
    "data = data.drop(columns=['#'])"
   ]
  },
  {
   "cell_type": "code",
   "execution_count": 5,
   "id": "c963a703-799d-4f00-9bfc-c860c2ffa089",
   "metadata": {},
   "outputs": [
    {
     "name": "stdout",
     "output_type": "stream",
     "text": [
      "Stored 'data' (DataFrame)\n"
     ]
    }
   ],
   "source": [
    "%store data"
   ]
  },
  {
   "cell_type": "markdown",
   "id": "353f9afc-b5b8-41d1-82be-5b6a8edd8d4c",
   "metadata": {},
   "source": [
    "#### **2. Simulate point sources**"
   ]
  },
  {
   "cell_type": "markdown",
   "id": "7e2c79f6-3d6a-4194-ba5a-56aa79352f88",
   "metadata": {},
   "source": [
    "Inside the file Flux_Density_Distribution.ipynb in Number_Counts/Src"
   ]
  },
  {
   "cell_type": "code",
   "execution_count": 6,
   "id": "f7e91854-219e-4feb-95a4-4340aca8fefc",
   "metadata": {},
   "outputs": [],
   "source": [
    "%store -r S_new_obs\n",
    "%store -r number_ps_obs\n",
    "%store -r nu"
   ]
  },
  {
   "cell_type": "markdown",
   "id": "6e6ba14c-acfe-419d-ba5a-ec802f634328",
   "metadata": {},
   "source": [
    "### Adjustment of units: from Jy to K"
   ]
  },
  {
   "cell_type": "markdown",
   "id": "98c12385-9f65-436f-9b96-0f753b19ddec",
   "metadata": {},
   "source": [
    " $\\left.\\Delta I_{\\mathrm{cmb}}(\\hat{\\boldsymbol{x}}, \\nu) \\approx \\frac{\\partial B(\\nu, T)}{\\partial T}\\right|_{T=T_0} \\Delta T_{\\mathrm{cmb}}(\\hat{\\boldsymbol{x}})$ \n",
    " \n",
    " $\\left.\\frac{\\partial B(\\nu, T)}{\\partial T}\\right|_{T=T_0} \\approx 24.8\\left[\\frac{x^2}{\\sinh (x / 2)}\\right]^2 \\mathrm{Jy} \\mathrm{ sr}^{-1}(\\mu \\mathrm{K})^{-1}$"
   ]
  },
  {
   "cell_type": "markdown",
   "id": "34819e69-de82-478d-8ad8-ee948ed2272f",
   "metadata": {},
   "source": [
    "Source: Hobson et al. 1998 (https://arxiv.org/pdf/astro-ph/9806387.pdf)"
   ]
  },
  {
   "cell_type": "markdown",
   "id": "00b9e85c-e75b-4fbf-8752-edaab057f8f9",
   "metadata": {},
   "source": [
    "Therefore, $I_{\\mathrm{cmb}} = 24.8\\left[\\frac{x^2}{\\sinh (x / 2)}\\right]^2  \\cdot T_{\\mathrm{cmb}} \\hspace{0.4cm} \\mathrm{Jy} \\hspace{0.1cm} \\mathrm{ sr}^{-1}$"
   ]
  },
  {
   "cell_type": "markdown",
   "id": "c632d909-bc27-435c-ac8b-889e16c40d41",
   "metadata": {},
   "source": [
    "$$\n",
    "\\begin{align}\n",
    "\\boxed{T_{\\mathrm{cmb}} \\hspace{0.1cm}(\\mathrm{K}) = \\frac{1}{24.8}\\left[\\frac{\\sinh (x / 2)}{x^2}\\right]^2  \\cdot I_{\\mathrm{cmb}}[\\mathrm{Jy \\hspace{0.1cm} sr^{-1}}] \\cdot 10^{-6}}\n",
    "\\end{align}\n",
    "\\hspace{0.3cm}\\mathrm{with} \\hspace{0.3cm} x \\approx \\nu/56.8 \\hspace{0.1cm} \\mathrm{GHz}\n",
    "$$"
   ]
  },
  {
   "cell_type": "code",
   "execution_count": 7,
   "id": "acedf1ff-c810-4086-b56b-59239b0d572e",
   "metadata": {},
   "outputs": [],
   "source": [
    "# Convert Jy to Kelvin\n",
    "def jy_to_kelvin(nu, flux_jy, l_pix): #l_pix in rad\n",
    "    x = nu/56.8\n",
    "    prefactor = 1/24.8 * 10**(-6) * (np.sinh(x/2)/x**2)**2\n",
    "    T = prefactor * flux_jy\n",
    "    T = T/l_pix**2\n",
    "    return T\n",
    "T = jy_to_kelvin(nu, S_new_obs, l_pix)"
   ]
  },
  {
   "cell_type": "markdown",
   "id": "b647fdd4-fea3-4d04-917d-612416df287a",
   "metadata": {},
   "source": [
    "#### **A) Maps for T, Q, U, P**"
   ]
  },
  {
   "cell_type": "code",
   "execution_count": 8,
   "id": "f7178f96-1b4d-4d90-b074-d61c34588ab4",
   "metadata": {},
   "outputs": [],
   "source": [
    "Pi = 0.02 # polarization degree\n",
    "P = Pi * T  # polarization intensity\n",
    "np.random.seed(0)\n",
    "phi = np.random.random(len(T)) * np.pi # random number [0,π)\n",
    "\n",
    "# Stokes' parameters\n",
    "Q = P * np.cos(2*phi)\n",
    "U = P * np.sin(2*phi)\n",
    "# rho is taken as 1, but the map is finally smoothed to achieve the radial profile behaviour"
   ]
  },
  {
   "cell_type": "markdown",
   "id": "21ca8670-8690-43ed-936f-c15e05f13528",
   "metadata": {},
   "source": [
    "##### ***Attention:** {T, Q, U, P} are variables that are not smoothed, but {ps_map_T, ps_map_Q, ps_map_U, ps_map_P} are smoothed. Also, {T, Q, U, P} are the quantities for the point sources, not the whole map*"
   ]
  },
  {
   "cell_type": "code",
   "execution_count": 9,
   "id": "7e6274ab-67c2-4976-984f-1f7e6d646455",
   "metadata": {},
   "outputs": [],
   "source": [
    "# Generate random positions for the point sources\n",
    "indices = np.random.choice(npix, size=number_ps_obs, replace=False)"
   ]
  },
  {
   "cell_type": "code",
   "execution_count": 10,
   "id": "1e3e1383-59b3-4141-ad06-a5d1522e2a02",
   "metadata": {},
   "outputs": [],
   "source": [
    "# T Map: it is useful to store the unsmoothed map for later in Section 6\n",
    "ps_map_T_unsmoothed = np.zeros(npix)\n",
    "\n",
    "# Add point sources to the map\n",
    "ps_map_T_unsmoothed[indices] = T"
   ]
  },
  {
   "cell_type": "code",
   "execution_count": 11,
   "id": "f81ab4b9-a32f-4d79-86a7-2bfdb7c975e9",
   "metadata": {},
   "outputs": [],
   "source": [
    "# Q map\n",
    "ps_map_Q = np.zeros(npix)\n",
    "\n",
    "# Add point sources to the map\n",
    "ps_map_Q[indices] = Q"
   ]
  },
  {
   "cell_type": "code",
   "execution_count": 12,
   "id": "d51ecfeb-f69d-472d-a814-d676e5c0198f",
   "metadata": {},
   "outputs": [],
   "source": [
    "# U map\n",
    "ps_map_U = np.zeros(npix)\n",
    "\n",
    "# Add point sources to the map\n",
    "ps_map_U[indices] = U"
   ]
  },
  {
   "cell_type": "code",
   "execution_count": 13,
   "id": "8c3d4a89-2326-4989-b456-281fd7d8683b",
   "metadata": {},
   "outputs": [],
   "source": [
    "ps_map_T, ps_map_Q, ps_map_U = hp.smoothing([ps_map_T_unsmoothed, ps_map_Q, ps_map_U], fwhm, pol = True)"
   ]
  },
  {
   "cell_type": "code",
   "execution_count": 14,
   "id": "4ba7b869-54ae-46e0-987c-13f699958b5f",
   "metadata": {},
   "outputs": [],
   "source": [
    "ps_map_T_obs = ps_map_T\n",
    "ps_map_Q_obs = ps_map_Q\n",
    "ps_map_U_obs = ps_map_U"
   ]
  },
  {
   "cell_type": "code",
   "execution_count": 15,
   "id": "aa841a25-e225-4178-a0ca-c8995c7a9c91",
   "metadata": {},
   "outputs": [
    {
     "name": "stdout",
     "output_type": "stream",
     "text": [
      "Stored 'ps_map_T_obs' (ndarray)\n",
      "Stored 'ps_map_Q_obs' (ndarray)\n",
      "Stored 'ps_map_U_obs' (ndarray)\n"
     ]
    }
   ],
   "source": [
    "%store ps_map_T_obs\n",
    "%store ps_map_Q_obs\n",
    "%store ps_map_U_obs"
   ]
  },
  {
   "cell_type": "markdown",
   "id": "27f93007-00bf-47f6-a926-b46c8a1a28ec",
   "metadata": {},
   "source": [
    "##### **P map**"
   ]
  },
  {
   "cell_type": "code",
   "execution_count": 16,
   "id": "0c4f0cc8-7ce1-4828-afd1-4f0f41c87d47",
   "metadata": {},
   "outputs": [],
   "source": [
    "# P map\n",
    "ps_map_P = np.zeros(npix)\n",
    "\n",
    "# Add point sources to the map\n",
    "ps_map_P = np.sqrt(ps_map_Q**2+ps_map_U**2) # already smoothed\n"
   ]
  },
  {
   "cell_type": "code",
   "execution_count": 17,
   "id": "d520addd-b834-4fbc-a05f-95708f552eb0",
   "metadata": {},
   "outputs": [
    {
     "name": "stdout",
     "output_type": "stream",
     "text": [
      "Stored 'ps_map_P_obs' (ndarray)\n"
     ]
    }
   ],
   "source": [
    "ps_map_P_obs = ps_map_P\n",
    "%store ps_map_P_obs"
   ]
  },
  {
   "cell_type": "markdown",
   "id": "6b40da55-56da-40a5-b69d-d53609c0ae4a",
   "metadata": {},
   "source": [
    "#### **B) Maps for E and B**"
   ]
  },
  {
   "cell_type": "markdown",
   "id": "4f351357-56ea-4dae-8577-5eb52c50bf93",
   "metadata": {},
   "source": [
    "Inside the file EB_maps_27GHz_obs.ipynb"
   ]
  },
  {
   "cell_type": "code",
   "execution_count": 23,
   "id": "96741275-6830-417e-b0f0-3c994bfb6580",
   "metadata": {},
   "outputs": [],
   "source": [
    "%store -r E_obs\n",
    "%store -r B_obs"
   ]
  },
  {
   "cell_type": "markdown",
   "id": "a735dd05-0b11-44e8-8e4b-a3ab0d638bdd",
   "metadata": {},
   "source": [
    "#### **3. Add white noise**"
   ]
  },
  {
   "cell_type": "markdown",
   "id": "73086fe6-0e81-45cc-ae25-000b5a03fc30",
   "metadata": {},
   "source": [
    "Inside the file White_noise_27GHz_obs.ipynb"
   ]
  },
  {
   "cell_type": "markdown",
   "id": "d6be2ce8-7d33-475b-bda0-b1d6b460606e",
   "metadata": {},
   "source": [
    "#### **4. Table Observation**"
   ]
  },
  {
   "cell_type": "code",
   "execution_count": 18,
   "id": "46ea4227-517f-4d44-a99a-bf1b0ad009bb",
   "metadata": {},
   "outputs": [],
   "source": [
    "lonlat_obs = hp.pix2ang(nside, indices, lonlat = True)"
   ]
  },
  {
   "cell_type": "code",
   "execution_count": 20,
   "id": "321ea386-90a5-494a-8534-3167679277ca",
   "metadata": {},
   "outputs": [],
   "source": [
    "lon_obs = lonlat_obs[0]\n",
    "lat_obs = lonlat_obs[1]"
   ]
  },
  {
   "cell_type": "code",
   "execution_count": 21,
   "id": "dceb7b97-439e-40f3-849f-c947f271ae14",
   "metadata": {},
   "outputs": [],
   "source": [
    "data = {\n",
    "    'indices': indices,\n",
    "    'lon (°)': lon_obs,\n",
    "    'lat (°)': lat_obs,\n",
    "    'S (Jy)': S_new_obs\n",
    "}\n",
    "\n",
    "table_PS_obs = pd.DataFrame(data)\n",
    "table_PS_obs = table_PS_obs.sort_values(by='S (Jy)', ascending=False)\n",
    "table_PS_obs.reset_index(drop=True, inplace=True)\n",
    "table_PS_obs = table_PS_obs.head(10000)"
   ]
  },
  {
   "cell_type": "code",
   "execution_count": 24,
   "id": "612076e1-b3ed-4e97-8c70-0c1522e8f09b",
   "metadata": {},
   "outputs": [
    {
     "name": "stdout",
     "output_type": "stream",
     "text": [
      "Stored 'table_PS_obs' (DataFrame)\n"
     ]
    }
   ],
   "source": [
    "%store table_PS_obs"
   ]
  },
  {
   "cell_type": "code",
   "execution_count": null,
   "id": "6aa3109b-bbb1-4f27-8933-fc037ab3c3ba",
   "metadata": {},
   "outputs": [],
   "source": []
  }
 ],
 "metadata": {
  "kernelspec": {
   "display_name": "Python 3 (ipykernel)",
   "language": "python",
   "name": "python3"
  },
  "language_info": {
   "codemirror_mode": {
    "name": "ipython",
    "version": 3
   },
   "file_extension": ".py",
   "mimetype": "text/x-python",
   "name": "python",
   "nbconvert_exporter": "python",
   "pygments_lexer": "ipython3",
   "version": "3.10.6"
  }
 },
 "nbformat": 4,
 "nbformat_minor": 5
}
